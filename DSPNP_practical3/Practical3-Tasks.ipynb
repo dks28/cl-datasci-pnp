{
 "cells": [
  {
   "cell_type": "markdown",
   "metadata": {},
   "source": [
    "# Task 1---questions\n",
    "\n",
    "**Q1**:\n",
    "*When applied to a new, test instance the ensemble classifier aggregates the predictions of all predictors and estimates the statistical mode (i.e., return the most frequent prediction).*\n",
    "\n",
    "*Is this similar to the hard or the soft voting strategy?*\n",
    "\n",
    "**A**:\n",
    "From the `scikit-learn` docs: \n",
    "```\n",
    "    predict(self, X)\n",
    "\n",
    "    Predict class for X.\n",
    "\n",
    "    The predicted class of an input sample is computed as the class with the highest mean predicted\n",
    "    probability. If base estimators do not implement a predict_proba method, then it resorts to voting.\n",
    "```\n",
    "Indeed, checking the source code for the `BaggingClassifier`'s `predict_proba` method confirms this. Therefore, the sklearn implementation prefers to do this the soft way, but will prefer hard voting over failure.\n",
    "\n",
    "\n",
    "**Q2**:\n",
    "*In light of your answer to Q1, will a `BaggingClassifier` perform soft or hard voting when based on `DecisionTreeClassifier`s?*\n",
    "**A**:\n",
    "The source code to `BaggingClassifier`'s `predict_proba` method performs the follwoing check, which returns `True` on a `DecisionTreeClassifier`.\n",
    "\n",
    "```\n",
    "    if hasattr(estimator, \"predict_proba\"):\n",
    "     # perform soft voting\n",
    "```\n",
    "\n",
    "Thus the `BaggingClassifier` will perform soft voting in this case.\n",
    "\n",
    "**Q3**:\n",
    "*We said earlier than one of the advantages of bagging and pasting strategies is that predictors can all be trained in parallel. Is the same applicable to AdaBoost?*\n",
    "**A**:\n",
    "The reason that bagging classifiers may proceed with training in parallel is that their constituebt classifiers are independent of one another. This is not the case with boosting classifiers, so these cannot parallelise training.\n",
    "\n",
    "**Q4**:\n",
    "*Upon inspection of the `feature_importances` for the Iris data set in a random forest, we observe that the features pertaining to petals are assigned higher `feature_importance` values than those pertaining to the sepals, and that sepal width has a very low feature importance.*\n",
    "\n",
    "*What do these results suggest? Are they similar to your observations from the previous experiments on this dataset?*\n",
    "\n",
    "**A**:\n",
    "These results suggest that the variance of sepal characteristics between the species is much smaller than that of petal characteristics.\n",
    "\n",
    "This does conform with the results of practical 2. Recalling the scatter plot of sepal width against sepal length, we can make two observations: When comparing this plot with those scattering petal width against petal length, the instances of Setosa irides are have a lower average distance to the other samples in the data's projection onto this feature subspace than in others. Moreover, the samples of Versicolor and Virginica irides seem more 'interleaved' in that subspace. \n",
    "\n",
    "**Q6**:\n",
    "*Another parameter to the `GradientBoostingRegressor` is `learning_rate`. What is it responsible for and what effect does it have on the resulting ensemble?*\n",
    "\n",
    "**A**:\n",
    "The learning rate is a measure of how much effect each iteration of the boosting has over the previous ensemble. Thus low learning rates will have the effect of requiring many estimators to achieve optimal performance, with a lower risk of overfitting the data or overshooting in the predictions. \n"
   ]
  },
  {
   "cell_type": "code",
   "execution_count": 1,
   "metadata": {},
   "outputs": [],
   "source": [
    "# Common imports\n",
    "import numpy as np\n",
    "import os\n",
    "\n",
    "# to make this notebook's output stable across runs\n",
    "np.random.seed(42)\n",
    "\n",
    "# To plot pretty figures\n",
    "%matplotlib inline\n",
    "import matplotlib\n",
    "import matplotlib.pyplot as plt\n",
    "plt.rcParams['axes.labelsize'] = 14\n",
    "plt.rcParams['xtick.labelsize'] = 12\n",
    "plt.rcParams['ytick.labelsize'] = 12"
   ]
  },
  {
   "cell_type": "code",
   "execution_count": 2,
   "metadata": {},
   "outputs": [],
   "source": [
    "import pandas as pd\n",
    "\n",
    "from tqdm import tqdm_notebook as tqdm"
   ]
  },
  {
   "cell_type": "code",
   "execution_count": 3,
   "metadata": {},
   "outputs": [
    {
     "data": {
      "text/html": [
       "<div>\n",
       "<style scoped>\n",
       "    .dataframe tbody tr th:only-of-type {\n",
       "        vertical-align: middle;\n",
       "    }\n",
       "\n",
       "    .dataframe tbody tr th {\n",
       "        vertical-align: top;\n",
       "    }\n",
       "\n",
       "    .dataframe thead th {\n",
       "        text-align: right;\n",
       "    }\n",
       "</style>\n",
       "<table border=\"1\" class=\"dataframe\">\n",
       "  <thead>\n",
       "    <tr style=\"text-align: right;\">\n",
       "      <th></th>\n",
       "      <th>yr</th>\n",
       "      <th>mnth</th>\n",
       "      <th>hr</th>\n",
       "      <th>holiday</th>\n",
       "      <th>weekday</th>\n",
       "      <th>workingday</th>\n",
       "      <th>weathersit</th>\n",
       "      <th>temp</th>\n",
       "      <th>atemp</th>\n",
       "      <th>hum</th>\n",
       "      <th>windspeed</th>\n",
       "      <th>cnt</th>\n",
       "    </tr>\n",
       "  </thead>\n",
       "  <tbody>\n",
       "    <tr>\n",
       "      <th>0</th>\n",
       "      <td>0</td>\n",
       "      <td>1</td>\n",
       "      <td>0</td>\n",
       "      <td>0</td>\n",
       "      <td>6</td>\n",
       "      <td>0</td>\n",
       "      <td>1</td>\n",
       "      <td>0.24</td>\n",
       "      <td>0.2879</td>\n",
       "      <td>0.81</td>\n",
       "      <td>0.0</td>\n",
       "      <td>16</td>\n",
       "    </tr>\n",
       "    <tr>\n",
       "      <th>1</th>\n",
       "      <td>0</td>\n",
       "      <td>1</td>\n",
       "      <td>1</td>\n",
       "      <td>0</td>\n",
       "      <td>6</td>\n",
       "      <td>0</td>\n",
       "      <td>1</td>\n",
       "      <td>0.22</td>\n",
       "      <td>0.2727</td>\n",
       "      <td>0.80</td>\n",
       "      <td>0.0</td>\n",
       "      <td>40</td>\n",
       "    </tr>\n",
       "    <tr>\n",
       "      <th>2</th>\n",
       "      <td>0</td>\n",
       "      <td>1</td>\n",
       "      <td>2</td>\n",
       "      <td>0</td>\n",
       "      <td>6</td>\n",
       "      <td>0</td>\n",
       "      <td>1</td>\n",
       "      <td>0.22</td>\n",
       "      <td>0.2727</td>\n",
       "      <td>0.80</td>\n",
       "      <td>0.0</td>\n",
       "      <td>32</td>\n",
       "    </tr>\n",
       "    <tr>\n",
       "      <th>3</th>\n",
       "      <td>0</td>\n",
       "      <td>1</td>\n",
       "      <td>3</td>\n",
       "      <td>0</td>\n",
       "      <td>6</td>\n",
       "      <td>0</td>\n",
       "      <td>1</td>\n",
       "      <td>0.24</td>\n",
       "      <td>0.2879</td>\n",
       "      <td>0.75</td>\n",
       "      <td>0.0</td>\n",
       "      <td>13</td>\n",
       "    </tr>\n",
       "    <tr>\n",
       "      <th>4</th>\n",
       "      <td>0</td>\n",
       "      <td>1</td>\n",
       "      <td>4</td>\n",
       "      <td>0</td>\n",
       "      <td>6</td>\n",
       "      <td>0</td>\n",
       "      <td>1</td>\n",
       "      <td>0.24</td>\n",
       "      <td>0.2879</td>\n",
       "      <td>0.75</td>\n",
       "      <td>0.0</td>\n",
       "      <td>1</td>\n",
       "    </tr>\n",
       "  </tbody>\n",
       "</table>\n",
       "</div>"
      ],
      "text/plain": [
       "   yr  mnth  hr  holiday  weekday  workingday  weathersit  temp   atemp   hum  \\\n",
       "0   0     1   0        0        6           0           1  0.24  0.2879  0.81   \n",
       "1   0     1   1        0        6           0           1  0.22  0.2727  0.80   \n",
       "2   0     1   2        0        6           0           1  0.22  0.2727  0.80   \n",
       "3   0     1   3        0        6           0           1  0.24  0.2879  0.75   \n",
       "4   0     1   4        0        6           0           1  0.24  0.2879  0.75   \n",
       "\n",
       "   windspeed  cnt  \n",
       "0        0.0   16  \n",
       "1        0.0   40  \n",
       "2        0.0   32  \n",
       "3        0.0   13  \n",
       "4        0.0    1  "
      ]
     },
     "execution_count": 3,
     "metadata": {},
     "output_type": "execute_result"
    }
   ],
   "source": [
    "data_path = '../DSPNP_practical1/bike_sharing/bike_hour.csv'\n",
    "\n",
    "bikes = pd.read_csv(data_path)\n",
    "bikes = bikes.drop(['casual', 'registered', 'instant', 'dteday', 'season'], axis=1)\n",
    "\n",
    "bikes.head()"
   ]
  },
  {
   "cell_type": "markdown",
   "metadata": {},
   "source": [
    "## The Set-up\n",
    "\n",
    "For this task, I will be using the BikeSharing data set from the optional task of practical 1.\n",
    "\n",
    "For classification tasks, I shall be trying to classify the `workingday` feature, whereas for regression tasks, I shall be predicting the `num` feature. \n",
    "\n",
    "Let us begin with the binary classification of the `workingday` column. Since the ratio of working days against non-working days is quite skewed, we will have to stratify our training/test set split."
   ]
  },
  {
   "cell_type": "code",
   "execution_count": null,
   "metadata": {},
   "outputs": [],
   "source": []
  },
  {
   "cell_type": "code",
   "execution_count": 4,
   "metadata": {},
   "outputs": [],
   "source": [
    "from sklearn.model_selection import StratifiedShuffleSplit\n",
    "\n",
    "split = StratifiedShuffleSplit(test_size = 0.3, random_state=28)\n",
    "for train_index, test_index in split.split(bikes, bikes['workingday']):\n",
    "    strat_train_set = bikes.loc[train_index].drop('workingday', axis=1)\n",
    "    strat_train_labels = bikes.loc[train_index]['workingday']\n",
    "    strat_test_set = bikes.loc[test_index].drop('workingday', axis=1)\n",
    "    strat_test_labels = bikes.loc[test_index]['workingday']"
   ]
  },
  {
   "cell_type": "markdown",
   "metadata": {},
   "source": [
    "Let us quickly check the proportions of this split against a simple random split."
   ]
  },
  {
   "cell_type": "code",
   "execution_count": 5,
   "metadata": {},
   "outputs": [],
   "source": [
    "from sklearn.model_selection import train_test_split\n",
    "\n",
    "rtrain, rtest = train_test_split(bikes, test_size=0.3, random_state=28)"
   ]
  },
  {
   "cell_type": "code",
   "execution_count": 6,
   "metadata": {},
   "outputs": [
    {
     "data": {
      "text/html": [
       "<div>\n",
       "<style scoped>\n",
       "    .dataframe tbody tr th:only-of-type {\n",
       "        vertical-align: middle;\n",
       "    }\n",
       "\n",
       "    .dataframe tbody tr th {\n",
       "        vertical-align: top;\n",
       "    }\n",
       "\n",
       "    .dataframe thead th {\n",
       "        text-align: right;\n",
       "    }\n",
       "</style>\n",
       "<table border=\"1\" class=\"dataframe\">\n",
       "  <thead>\n",
       "    <tr style=\"text-align: right;\">\n",
       "      <th></th>\n",
       "      <th>Overall</th>\n",
       "      <th>Stratified tr</th>\n",
       "      <th>Random tr</th>\n",
       "      <th>Stratified ts</th>\n",
       "      <th>Random ts</th>\n",
       "      <th>Rand. tr %error</th>\n",
       "      <th>Rand. ts %error</th>\n",
       "      <th>Strat. tr %error</th>\n",
       "      <th>Strat. ts %error</th>\n",
       "    </tr>\n",
       "  </thead>\n",
       "  <tbody>\n",
       "    <tr>\n",
       "      <th>0</th>\n",
       "      <td>0.682721</td>\n",
       "      <td>0.682696</td>\n",
       "      <td>0.685656</td>\n",
       "      <td>0.682777</td>\n",
       "      <td>0.675873</td>\n",
       "      <td>0.429904</td>\n",
       "      <td>-1.003027</td>\n",
       "      <td>-0.003554</td>\n",
       "      <td>0.008292</td>\n",
       "    </tr>\n",
       "    <tr>\n",
       "      <th>1</th>\n",
       "      <td>0.682721</td>\n",
       "      <td>0.682696</td>\n",
       "      <td>0.685656</td>\n",
       "      <td>0.682777</td>\n",
       "      <td>0.675873</td>\n",
       "      <td>0.429904</td>\n",
       "      <td>-1.003027</td>\n",
       "      <td>-0.003554</td>\n",
       "      <td>0.008292</td>\n",
       "    </tr>\n",
       "  </tbody>\n",
       "</table>\n",
       "</div>"
      ],
      "text/plain": [
       "    Overall  Stratified tr  Random tr  Stratified ts  Random ts  \\\n",
       "0  0.682721       0.682696   0.685656       0.682777   0.675873   \n",
       "1  0.682721       0.682696   0.685656       0.682777   0.675873   \n",
       "\n",
       "   Rand. tr %error  Rand. ts %error  Strat. tr %error  Strat. ts %error  \n",
       "0         0.429904        -1.003027         -0.003554          0.008292  \n",
       "1         0.429904        -1.003027         -0.003554          0.008292  "
      ]
     },
     "execution_count": 6,
     "metadata": {},
     "output_type": "execute_result"
    }
   ],
   "source": [
    "def workingday_proportions(data):\n",
    "    return data.sum() / len(data)\n",
    "\n",
    "compare_props = pd.DataFrame({\n",
    "    \"Overall\": workingday_proportions(bikes['workingday']),\n",
    "    \"Stratified tr\": workingday_proportions(strat_train_labels),\n",
    "    \"Random tr\": workingday_proportions(rtrain['workingday']),\n",
    "    \"Stratified ts\": workingday_proportions(strat_test_labels),\n",
    "    \"Random ts\": workingday_proportions(rtest['workingday']),\n",
    "}, index=[0,1])\n",
    "\n",
    "compare_props[\"Rand. tr %error\"] = 100 * compare_props[\"Random tr\"] / compare_props[\"Overall\"] - 100\n",
    "compare_props[\"Rand. ts %error\"] = 100 * compare_props[\"Random ts\"] / compare_props[\"Overall\"] - 100\n",
    "compare_props[\"Strat. tr %error\"] = 100 * compare_props[\"Stratified tr\"] / compare_props[\"Overall\"] - 100\n",
    "compare_props[\"Strat. ts %error\"] = 100 * compare_props[\"Stratified ts\"] / compare_props[\"Overall\"] - 100\n",
    "\n",
    "compare_props.sort_index()"
   ]
  },
  {
   "cell_type": "markdown",
   "metadata": {},
   "source": [
    "So our stratification was actually very helpful. Coolio, let's move on to more interesting things in life.\n",
    "\n",
    "Let us begin with a simple voting classifier as in the practical. "
   ]
  },
  {
   "cell_type": "code",
   "execution_count": 7,
   "metadata": {},
   "outputs": [],
   "source": [
    "X_train = strat_train_set.values\n",
    "y_train = strat_train_labels\n",
    "X_test = strat_test_set.values\n",
    "y_test = strat_test_labels"
   ]
  },
  {
   "cell_type": "code",
   "execution_count": 8,
   "metadata": {
    "scrolled": false
   },
   "outputs": [
    {
     "name": "stderr",
     "output_type": "stream",
     "text": [
      "/home/dks28/.local/lib/python3.6/site-packages/sklearn/svm/base.py:193: FutureWarning: The default value of gamma will change from 'auto' to 'scale' in version 0.22 to account better for unscaled features. Set gamma explicitly to 'auto' or 'scale' to avoid this warning.\n",
      "  \"avoid this warning.\", FutureWarning)\n"
     ]
    },
    {
     "data": {
      "text/plain": [
       "VotingClassifier(estimators=[('sgd',\n",
       "                              SGDClassifier(alpha=0.0001, average=False,\n",
       "                                            class_weight=None,\n",
       "                                            early_stopping=False, epsilon=0.1,\n",
       "                                            eta0=0.0, fit_intercept=True,\n",
       "                                            l1_ratio=0.15,\n",
       "                                            learning_rate='optimal',\n",
       "                                            loss='perceptron', max_iter=1000,\n",
       "                                            n_iter_no_change=5, n_jobs=None,\n",
       "                                            penalty='l2', power_t=0.5,\n",
       "                                            random_state=28, shuffle=True,\n",
       "                                            tol=0.001, validation_fraction=0.1,\n",
       "                                            verbo...\n",
       "                                  verbose=False)),\n",
       "                             ('ext',\n",
       "                              ExtraTreeClassifier(class_weight=None,\n",
       "                                                  criterion='entropy',\n",
       "                                                  max_depth=3,\n",
       "                                                  max_features='auto',\n",
       "                                                  max_leaf_nodes=None,\n",
       "                                                  min_impurity_decrease=0.0,\n",
       "                                                  min_impurity_split=None,\n",
       "                                                  min_samples_leaf=1,\n",
       "                                                  min_samples_split=2,\n",
       "                                                  min_weight_fraction_leaf=0.0,\n",
       "                                                  random_state=28,\n",
       "                                                  splitter='random'))],\n",
       "                 flatten_transform=True, n_jobs=None, voting='hard',\n",
       "                 weights=None)"
      ]
     },
     "execution_count": 8,
     "metadata": {},
     "output_type": "execute_result"
    }
   ],
   "source": [
    "from sklearn.ensemble import VotingClassifier\n",
    "\n",
    "from sklearn.ensemble import RandomForestClassifier\n",
    "from sklearn.linear_model import LogisticRegression\n",
    "from sklearn.svm import SVC\n",
    "from sklearn.naive_bayes import MultinomialNB\n",
    "from sklearn.linear_model import SGDClassifier \n",
    "from sklearn.tree import ExtraTreeClassifier, DecisionTreeClassifier\n",
    "\n",
    "log_clf = LogisticRegression(random_state=28)\n",
    "sgd_clf = SGDClassifier(loss='perceptron', random_state=28)\n",
    "svm_clf = SVC(probability=True, random_state=28)\n",
    "gnb_clf = MultinomialNB()\n",
    "ext_clf = ExtraTreeClassifier(criterion='entropy', random_state=28, max_depth=3)\n",
    "\n",
    "clfs = [sgd_clf, svm_clf, log_clf, gnb_clf, ext_clf]\n",
    "\n",
    "voting_clf = VotingClassifier(\n",
    "    estimators=[('sgd', sgd_clf), ('svm', svm_clf), ('ext', ext_clf)],\n",
    "    voting='hard')\n",
    "voting_clf.fit(X_train, y_train)"
   ]
  },
  {
   "cell_type": "markdown",
   "metadata": {},
   "source": [
    "Let's see if these are somewhat variable in their classification---they *really* are!"
   ]
  },
  {
   "cell_type": "code",
   "execution_count": 9,
   "metadata": {},
   "outputs": [
    {
     "name": "stderr",
     "output_type": "stream",
     "text": [
      "/home/dks28/.local/lib/python3.6/site-packages/sklearn/linear_model/logistic.py:432: FutureWarning: Default solver will be changed to 'lbfgs' in 0.22. Specify a solver to silence this warning.\n",
      "  FutureWarning)\n",
      "/home/dks28/.local/lib/python3.6/site-packages/sklearn/svm/base.py:193: FutureWarning: The default value of gamma will change from 'auto' to 'scale' in version 0.22 to account better for unscaled features. Set gamma explicitly to 'auto' or 'scale' to avoid this warning.\n",
      "  \"avoid this warning.\", FutureWarning)\n"
     ]
    },
    {
     "data": {
      "text/html": [
       "<div>\n",
       "<style scoped>\n",
       "    .dataframe tbody tr th:only-of-type {\n",
       "        vertical-align: middle;\n",
       "    }\n",
       "\n",
       "    .dataframe tbody tr th {\n",
       "        vertical-align: top;\n",
       "    }\n",
       "\n",
       "    .dataframe thead th {\n",
       "        text-align: right;\n",
       "    }\n",
       "</style>\n",
       "<table border=\"1\" class=\"dataframe\">\n",
       "  <thead>\n",
       "    <tr style=\"text-align: right;\">\n",
       "      <th></th>\n",
       "      <th>lr</th>\n",
       "      <th>sgd</th>\n",
       "      <th>svm</th>\n",
       "      <th>gnb</th>\n",
       "      <th>ext</th>\n",
       "    </tr>\n",
       "  </thead>\n",
       "  <tbody>\n",
       "    <tr>\n",
       "      <th>lr</th>\n",
       "      <td>1.000000</td>\n",
       "      <td>0.791732</td>\n",
       "      <td>0.017088</td>\n",
       "      <td>0.394080</td>\n",
       "      <td>1.000000</td>\n",
       "    </tr>\n",
       "    <tr>\n",
       "      <th>sgd</th>\n",
       "      <td>0.791732</td>\n",
       "      <td>1.000000</td>\n",
       "      <td>0.002060</td>\n",
       "      <td>0.307171</td>\n",
       "      <td>0.791732</td>\n",
       "    </tr>\n",
       "    <tr>\n",
       "      <th>svm</th>\n",
       "      <td>0.017088</td>\n",
       "      <td>0.002060</td>\n",
       "      <td>1.000000</td>\n",
       "      <td>0.083668</td>\n",
       "      <td>0.017088</td>\n",
       "    </tr>\n",
       "    <tr>\n",
       "      <th>gnb</th>\n",
       "      <td>0.394080</td>\n",
       "      <td>0.307171</td>\n",
       "      <td>0.083668</td>\n",
       "      <td>1.000000</td>\n",
       "      <td>0.394080</td>\n",
       "    </tr>\n",
       "    <tr>\n",
       "      <th>ext</th>\n",
       "      <td>1.000000</td>\n",
       "      <td>0.791732</td>\n",
       "      <td>0.017088</td>\n",
       "      <td>0.394080</td>\n",
       "      <td>1.000000</td>\n",
       "    </tr>\n",
       "  </tbody>\n",
       "</table>\n",
       "</div>"
      ],
      "text/plain": [
       "           lr       sgd       svm       gnb       ext\n",
       "lr   1.000000  0.791732  0.017088  0.394080  1.000000\n",
       "sgd  0.791732  1.000000  0.002060  0.307171  0.791732\n",
       "svm  0.017088  0.002060  1.000000  0.083668  0.017088\n",
       "gnb  0.394080  0.307171  0.083668  1.000000  0.394080\n",
       "ext  1.000000  0.791732  0.017088  0.394080  1.000000"
      ]
     },
     "execution_count": 9,
     "metadata": {},
     "output_type": "execute_result"
    }
   ],
   "source": [
    "import pandas as pd\n",
    "\n",
    "def get_predictions(clf):\n",
    "    clf.fit(X_train, y_train)\n",
    "    return clf.predict(X_test)\n",
    "\n",
    "\n",
    "preds = {'lr': get_predictions(log_clf), \n",
    "        'sgd': get_predictions(sgd_clf), \n",
    "        'svm': get_predictions(svm_clf),\n",
    "        'gnb': get_predictions(gnb_clf),\n",
    "        'ext': get_predictions(ext_clf)}\n",
    "df = pd.DataFrame(data=preds)\n",
    "\n",
    "df.corr()"
   ]
  },
  {
   "cell_type": "code",
   "execution_count": 10,
   "metadata": {},
   "outputs": [
    {
     "name": "stdout",
     "output_type": "stream",
     "text": [
      "SGDClassifier 0.7013808975834293\n"
     ]
    },
    {
     "name": "stderr",
     "output_type": "stream",
     "text": [
      "/home/dks28/.local/lib/python3.6/site-packages/sklearn/svm/base.py:193: FutureWarning: The default value of gamma will change from 'auto' to 'scale' in version 0.22 to account better for unscaled features. Set gamma explicitly to 'auto' or 'scale' to avoid this warning.\n",
      "  \"avoid this warning.\", FutureWarning)\n"
     ]
    },
    {
     "name": "stdout",
     "output_type": "stream",
     "text": [
      "SVC 0.883199079401611\n",
      "ExtraTreeClassifier 0.7117376294591484\n"
     ]
    },
    {
     "name": "stderr",
     "output_type": "stream",
     "text": [
      "/home/dks28/.local/lib/python3.6/site-packages/sklearn/svm/base.py:193: FutureWarning: The default value of gamma will change from 'auto' to 'scale' in version 0.22 to account better for unscaled features. Set gamma explicitly to 'auto' or 'scale' to avoid this warning.\n",
      "  \"avoid this warning.\", FutureWarning)\n"
     ]
    },
    {
     "name": "stdout",
     "output_type": "stream",
     "text": [
      "VotingClassifier 0.7061756808592251\n"
     ]
    }
   ],
   "source": [
    "from sklearn.metrics import accuracy_score\n",
    "\n",
    "for clf in clfs[0], clfs[1], clfs[-1] ,voting_clf:\n",
    "    clf.fit(X_train, y_train)\n",
    "    y_pred = clf.predict(X_test)\n",
    "    print(clf.__class__.__name__, accuracy_score(y_test, y_pred))"
   ]
  },
  {
   "cell_type": "markdown",
   "metadata": {},
   "source": [
    "So, the performance of a voting classifier slghtly improves upon the individual performances of its constituents.\n",
    "\n",
    "Let us see if we can further increase the accuracy by applying other ensemble methods, starting with bagging."
   ]
  },
  {
   "cell_type": "code",
   "execution_count": 11,
   "metadata": {},
   "outputs": [
    {
     "data": {
      "text/plain": [
       "array([[0.11290323, 0.88709677],\n",
       "       [0.5951417 , 0.4048583 ],\n",
       "       [0.59959759, 0.40040241],\n",
       "       ...,\n",
       "       [0.12727273, 0.87272727],\n",
       "       [0.6108871 , 0.3891129 ],\n",
       "       [0.13253012, 0.86746988]])"
      ]
     },
     "execution_count": 11,
     "metadata": {},
     "output_type": "execute_result"
    }
   ],
   "source": [
    "from sklearn.ensemble import BaggingClassifier\n",
    "\n",
    "#use bootstrap=False for pasting\n",
    "bag_clf = BaggingClassifier(\n",
    "    ExtraTreeClassifier(random_state=28), n_estimators=500,\n",
    "    max_samples=100, bootstrap=True, n_jobs=-1, random_state=28, oob_score=True)\n",
    "# n_jobs = use all of the available CPU cores\n",
    "bag_clf.fit(X_train, y_train)\n",
    "\n",
    "bag_clf.oob_decision_function_"
   ]
  },
  {
   "cell_type": "code",
   "execution_count": 12,
   "metadata": {},
   "outputs": [
    {
     "name": "stdout",
     "output_type": "stream",
     "text": [
      "BaggingClassifier 1.0\n",
      "ExtraTreeClassifier 0.7117376294591484\n"
     ]
    },
    {
     "data": {
      "text/plain": [
       "[None, None]"
      ]
     },
     "execution_count": 12,
     "metadata": {},
     "output_type": "execute_result"
    }
   ],
   "source": [
    "[print(clf.__class__.__name__, accuracy_score(clf.predict(X_test), y_test)) for clf in (bag_clf, ext_clf)]"
   ]
  },
  {
   "cell_type": "markdown",
   "metadata": {},
   "source": [
    "So Bagging does improve the performance of the classifier. Will pasting have a similar effect?"
   ]
  },
  {
   "cell_type": "code",
   "execution_count": 13,
   "metadata": {},
   "outputs": [
    {
     "data": {
      "text/plain": [
       "BaggingClassifier(base_estimator=ExtraTreeClassifier(class_weight=None,\n",
       "                                                     criterion='gini',\n",
       "                                                     max_depth=None,\n",
       "                                                     max_features='auto',\n",
       "                                                     max_leaf_nodes=None,\n",
       "                                                     min_impurity_decrease=0.0,\n",
       "                                                     min_impurity_split=None,\n",
       "                                                     min_samples_leaf=1,\n",
       "                                                     min_samples_split=2,\n",
       "                                                     min_weight_fraction_leaf=0.0,\n",
       "                                                     random_state=28,\n",
       "                                                     splitter='random'),\n",
       "                  bootstrap=False, bootstrap_features=False, max_features=1.0,\n",
       "                  max_samples=100, n_estimators=500, n_jobs=-1, oob_score=False,\n",
       "                  random_state=28, verbose=0, warm_start=False)"
      ]
     },
     "execution_count": 13,
     "metadata": {},
     "output_type": "execute_result"
    }
   ],
   "source": [
    "pas_clf = BaggingClassifier(\n",
    "    ExtraTreeClassifier(random_state=28), n_estimators=500,\n",
    "    max_samples=100, bootstrap=False, n_jobs=-1, random_state=28)\n",
    "# n_jobs = use all of the available CPU cores\n",
    "pas_clf.fit(X_train, y_train)"
   ]
  },
  {
   "cell_type": "code",
   "execution_count": 14,
   "metadata": {},
   "outputs": [
    {
     "name": "stdout",
     "output_type": "stream",
     "text": [
      "BaggingClassifier 1.0\n",
      "ExtraTreeClassifier 0.7117376294591484\n"
     ]
    },
    {
     "data": {
      "text/plain": [
       "[None, None]"
      ]
     },
     "execution_count": 14,
     "metadata": {},
     "output_type": "execute_result"
    }
   ],
   "source": [
    "[print(clf.__class__.__name__, accuracy_score(clf.predict(X_test), y_test)) for clf in (pas_clf, ext_clf)]"
   ]
  },
  {
   "cell_type": "markdown",
   "metadata": {},
   "source": [
    "Let's see how sure the bagging classifier is with each of its perfect classifications."
   ]
  },
  {
   "cell_type": "code",
   "execution_count": 15,
   "metadata": {},
   "outputs": [
    {
     "data": {
      "text/plain": [
       "(array([   3.,   12.,   83.,  142.,  288.,  481.,  689.,  761.,  693.,\n",
       "         423.,  214.,   89.,   68.,  155.,  246.,  466.,  824., 1080.,\n",
       "        1038., 1170., 1250., 1127.,  637.,  201.,   25.]),\n",
       " array([0.50404858, 0.52145256, 0.53885654, 0.55626052, 0.5736645 ,\n",
       "        0.59106848, 0.60847246, 0.62587644, 0.64328042, 0.6606844 ,\n",
       "        0.67808838, 0.69549236, 0.71289634, 0.73030032, 0.7477043 ,\n",
       "        0.76510828, 0.78251226, 0.79991624, 0.81732022, 0.8347242 ,\n",
       "        0.85212818, 0.86953215, 0.88693613, 0.90434011, 0.92174409,\n",
       "        0.93914807]),\n",
       " <a list of 25 Patch objects>)"
      ]
     },
     "execution_count": 15,
     "metadata": {},
     "output_type": "execute_result"
    },
    {
     "data": {
      "image/png": "[encoded data removed]",
      "text/plain": [
       "<Figure size 432x288 with 1 Axes>"
      ]
     },
     "metadata": {},
     "output_type": "display_data"
    }
   ],
   "source": [
    "plt.hist(np.max(bag_clf.oob_decision_function_, axis=1), bins=25)"
   ]
  },
  {
   "cell_type": "code",
   "execution_count": 16,
   "metadata": {},
   "outputs": [
    {
     "data": {
      "text/plain": [
       "array([0.88709677, 0.5951417 , 0.59959759, ..., 0.87272727, 0.6108871 ,\n",
       "       0.86746988])"
      ]
     },
     "execution_count": 16,
     "metadata": {},
     "output_type": "execute_result"
    }
   ],
   "source": [
    "np.max(bag_clf.oob_decision_function_, axis=1)"
   ]
  },
  {
   "cell_type": "markdown",
   "metadata": {},
   "source": [
    "Let's also see how important each of the features in the data set is for this task."
   ]
  },
  {
   "cell_type": "code",
   "execution_count": 17,
   "metadata": {},
   "outputs": [
    {
     "name": "stdout",
     "output_type": "stream",
     "text": [
      "yr 0.0024633332278832447\n",
      "mnth 0.006128632592508981\n",
      "hr 0.020319292964629445\n",
      "holiday 0.08143113562903544\n",
      "weekday 0.8366787877239502\n",
      "weathersit 0.002234161780552275\n",
      "temp 0.007420094130358104\n",
      "atemp 0.007701677037008248\n",
      "hum 0.009147911615471477\n",
      "windspeed 0.005472192862560029\n",
      "cnt 0.021002780436042534\n"
     ]
    }
   ],
   "source": [
    "rnd_clf = RandomForestClassifier(n_estimators=500, n_jobs=-1, random_state=28)\n",
    "\n",
    "rnd_clf.fit(X_train, y_train)\n",
    "\n",
    "for f, i in zip(bikes.drop(['workingday'], axis=1).columns, rnd_clf.feature_importances_):\n",
    "    print(f, i)"
   ]
  },
  {
   "cell_type": "markdown",
   "metadata": {},
   "source": [
    "As expected, the `weekday` feature (where $ \\neg \\mathtt{weekday} \\implies \\neg \\mathtt{workingday}$) is the most important feature, with `holiday` having a similar implicative effect. \n",
    "\n",
    "This will be why the ensemble clssifiers do so well.\n",
    "\n",
    "Before we move onto the regression task of predicting the number of bike rentals, let us quickly see whether adaptive boosting also performs so very well on this task."
   ]
  },
  {
   "cell_type": "code",
   "execution_count": 18,
   "metadata": {},
   "outputs": [
    {
     "data": {
      "text/plain": [
       "AdaBoostClassifier(algorithm='SAMME.R',\n",
       "                   base_estimator=DecisionTreeClassifier(class_weight=None,\n",
       "                                                         criterion='gini',\n",
       "                                                         max_depth=1,\n",
       "                                                         max_features=None,\n",
       "                                                         max_leaf_nodes=None,\n",
       "                                                         min_impurity_decrease=0.0,\n",
       "                                                         min_impurity_split=None,\n",
       "                                                         min_samples_leaf=1,\n",
       "                                                         min_samples_split=2,\n",
       "                                                         min_weight_fraction_leaf=0.0,\n",
       "                                                         presort=False,\n",
       "                                                         random_state=None,\n",
       "                                                         splitter='best'),\n",
       "                   learning_rate=0.5, n_estimators=200, random_state=28)"
      ]
     },
     "execution_count": 18,
     "metadata": {},
     "output_type": "execute_result"
    }
   ],
   "source": [
    "from sklearn.ensemble import AdaBoostClassifier\n",
    "\n",
    "ada_clf = AdaBoostClassifier(\n",
    "    DecisionTreeClassifier(max_depth=1), n_estimators=200,\n",
    "    algorithm=\"SAMME.R\", learning_rate=0.5, random_state=28)\n",
    "ada_clf.fit(X_train, y_train)"
   ]
  },
  {
   "cell_type": "code",
   "execution_count": 19,
   "metadata": {},
   "outputs": [
    {
     "data": {
      "text/plain": [
       "1.0"
      ]
     },
     "execution_count": 19,
     "metadata": {},
     "output_type": "execute_result"
    }
   ],
   "source": [
    "accuracy_score(y_test, ada_clf.predict(X_test))"
   ]
  },
  {
   "cell_type": "code",
   "execution_count": 20,
   "metadata": {},
   "outputs": [
    {
     "data": {
      "text/plain": [
       "array([1.70900123e-01, 5.60043661e-02, 1.72150028e-04, 6.52509266e-03,\n",
       "       3.29536164e-03, 9.46411605e-05, 3.91602567e-03, 1.09097139e-03,\n",
       "       1.24253190e-04, 3.60079780e-03, 6.12208497e-04, 1.91576668e-04,\n",
       "       3.23799695e-03, 4.36228394e-04, 2.96448322e-04, 2.69372345e-03,\n",
       "       3.63877552e-04, 4.37043239e-04, 2.11991342e-03, 3.41004346e-04,\n",
       "       5.97720078e-04, 1.63578602e-03, 3.47423538e-04, 7.51785493e-04,\n",
       "       1.27629129e-03, 3.73862213e-04, 8.73681221e-04, 1.02755908e-03,\n",
       "       4.14826209e-04, 9.49499412e-04, 8.62326223e-04, 4.65812352e-04,\n",
       "       9.79272839e-04, 7.55982828e-04, 5.22221061e-04, 9.72641745e-04,\n",
       "       6.90331507e-04, 5.79235517e-04, 9.42714470e-04, 6.52806077e-04,\n",
       "       6.32293244e-04, 9.01518278e-04, 6.34802258e-04, 6.77758110e-04,\n",
       "       8.57932132e-04, 6.30274906e-04, 7.13424549e-04, 8.17471700e-04,\n",
       "       6.34793723e-04, 7.38649711e-04, 7.82960164e-04, 6.44979284e-04,\n",
       "       7.54121856e-04, 7.55391297e-04, 6.58199771e-04, 7.61414816e-04,\n",
       "       7.34658016e-04, 6.72424379e-04, 7.62506045e-04, 7.20064402e-04,\n",
       "       6.86154150e-04, 7.59383579e-04, 7.10649334e-04, 6.98376018e-04,\n",
       "       7.53792676e-04, 7.05378108e-04, 7.08509571e-04, 7.47115521e-04,\n",
       "       7.03251537e-04, 7.16336049e-04, 7.40349289e-04, 7.03366389e-04,\n",
       "       7.21913071e-04, 7.34143080e-04, 7.04947179e-04, 7.25485282e-04,\n",
       "       7.28861835e-04, 7.07359972e-04, 7.27401828e-04, 7.24656268e-04,\n",
       "       7.10113715e-04, 7.28048510e-04, 7.21527310e-04, 7.12852262e-04,\n",
       "       7.27798210e-04, 7.19380115e-04, 7.15339546e-04, 7.26979406e-04,\n",
       "       7.18066488e-04, 7.17440287e-04, 7.25860145e-04, 7.17416438e-04,\n",
       "       7.19098602e-04, 7.24643726e-04, 7.17260346e-04, 7.20316679e-04,\n",
       "       7.23472289e-04, 7.17443380e-04, 7.21135247e-04, 7.22435014e-04,\n",
       "       7.17833761e-04, 7.21617002e-04, 7.21578404e-04, 7.18326317e-04,\n",
       "       7.21833539e-04, 7.20916870e-04, 7.18842604e-04, 7.21855868e-04,\n",
       "       7.20442526e-04, 7.19328727e-04, 7.21748203e-04, 7.20133561e-04,\n",
       "       7.19751766e-04, 7.21564482e-04, 7.19960951e-04, 7.20095585e-04,\n",
       "       7.21347030e-04, 7.19893495e-04, 7.20356578e-04, 7.21126727e-04,\n",
       "       7.19901317e-04, 7.20539731e-04, 7.20924161e-04, 7.19958051e-04,\n",
       "       7.20655266e-04, 7.20751305e-04, 7.20041979e-04, 7.20715944e-04,\n",
       "       7.20613402e-04, 7.20136372e-04, 7.20735064e-04, 7.20510793e-04,\n",
       "       7.20229270e-04, 7.20725094e-04, 7.20440564e-04, 7.20312921e-04,\n",
       "       7.20696840e-04, 7.20397917e-04, 7.20383038e-04, 7.20659052e-04,\n",
       "       7.20377236e-04, 7.20437997e-04, 7.20618343e-04, 7.20372870e-04,\n",
       "       7.20478076e-04, 7.20579332e-04, 7.20379645e-04, 7.20504784e-04,\n",
       "       7.20544911e-04, 7.20393158e-04, 7.20520303e-04, 7.20516576e-04,\n",
       "       7.20409910e-04, 7.20527067e-04, 7.20494772e-04, 7.20427307e-04,\n",
       "       7.20527460e-04, 7.20479211e-04, 7.20443582e-04, 7.20523619e-04,\n",
       "       7.20469149e-04, 7.20457669e-04, 7.20517330e-04, 7.20463606e-04,\n",
       "       7.20469061e-04, 7.20509987e-04, 7.20461533e-04, 7.20477665e-04,\n",
       "       7.20502603e-04, 7.20461933e-04, 7.20483664e-04, 7.20495848e-04,\n",
       "       7.20463925e-04, 7.20487414e-04, 7.20490109e-04, 7.20466790e-04,\n",
       "       7.20489348e-04, 7.20485550e-04, 7.20469976e-04, 7.20489914e-04,\n",
       "       7.20482174e-04, 7.20473089e-04, 7.20489527e-04, 7.20479878e-04,\n",
       "       7.20475878e-04, 7.20488546e-04, 7.20478498e-04, 7.20478204e-04,\n",
       "       7.20487262e-04, 7.20477845e-04, 7.20480020e-04, 7.20485892e-04,\n",
       "       7.20477728e-04, 7.20481337e-04, 7.20484588e-04, 7.20477976e-04,\n",
       "       7.20482208e-04, 7.20483442e-04, 7.20478441e-04, 7.20482708e-04])"
      ]
     },
     "execution_count": 20,
     "metadata": {},
     "output_type": "execute_result"
    }
   ],
   "source": [
    "ada_clf.estimator_errors_"
   ]
  },
  {
   "cell_type": "markdown",
   "metadata": {},
   "source": [
    "### OK, Let's move on to regression with gradient boosters.\n",
    "\n",
    "As stated before, we will now consider the task of predicting the `cnt` column in the data set. Therefore, let's redefine the training and test sets:"
   ]
  },
  {
   "cell_type": "code",
   "execution_count": 21,
   "metadata": {},
   "outputs": [],
   "source": [
    "reg_training, reg_test = train_test_split(bikes, test_size=0.2, random_state=28)"
   ]
  },
  {
   "cell_type": "code",
   "execution_count": 22,
   "metadata": {},
   "outputs": [],
   "source": [
    "X_train_reg = reg_training.drop(['cnt'], axis=1).values\n",
    "y_train_reg = reg_training['cnt']\n",
    "\n",
    "X_test_reg = reg_test.drop(['cnt'], axis=1).values\n",
    "y_test_reg = reg_test['cnt']"
   ]
  },
  {
   "cell_type": "code",
   "execution_count": 23,
   "metadata": {},
   "outputs": [
    {
     "data": {
      "text/plain": [
       "GradientBoostingRegressor(alpha=0.9, criterion='friedman_mse', init=None,\n",
       "                          learning_rate=1.0, loss='ls', max_depth=10,\n",
       "                          max_features=None, max_leaf_nodes=None,\n",
       "                          min_impurity_decrease=0.0, min_impurity_split=None,\n",
       "                          min_samples_leaf=1, min_samples_split=2,\n",
       "                          min_weight_fraction_leaf=0.0, n_estimators=3,\n",
       "                          n_iter_no_change=None, presort='auto',\n",
       "                          random_state=42, subsample=1.0, tol=0.0001,\n",
       "                          validation_fraction=0.1, verbose=0, warm_start=False)"
      ]
     },
     "execution_count": 23,
     "metadata": {},
     "output_type": "execute_result"
    }
   ],
   "source": [
    "from sklearn.ensemble import GradientBoostingRegressor\n",
    "\n",
    "gbrt = GradientBoostingRegressor(max_depth=10, n_estimators=3, learning_rate=1.0, random_state=42)\n",
    "gbrt.fit(X_train_reg, y_train_reg)"
   ]
  },
  {
   "cell_type": "code",
   "execution_count": 24,
   "metadata": {},
   "outputs": [
    {
     "data": {
      "text/plain": [
       "GradientBoostingRegressor(alpha=0.9, criterion='friedman_mse', init=None,\n",
       "                          learning_rate=0.1, loss='ls', max_depth=10,\n",
       "                          max_features=None, max_leaf_nodes=None,\n",
       "                          min_impurity_decrease=0.0, min_impurity_split=None,\n",
       "                          min_samples_leaf=1, min_samples_split=2,\n",
       "                          min_weight_fraction_leaf=0.0, n_estimators=300,\n",
       "                          n_iter_no_change=None, presort='auto',\n",
       "                          random_state=42, subsample=1.0, tol=0.0001,\n",
       "                          validation_fraction=0.1, verbose=0, warm_start=False)"
      ]
     },
     "execution_count": 24,
     "metadata": {},
     "output_type": "execute_result"
    }
   ],
   "source": [
    "gbrt_slow = GradientBoostingRegressor(max_depth=10, n_estimators=300, learning_rate=0.1, random_state=42)\n",
    "gbrt_slow.fit(X_train_reg, y_train_reg)"
   ]
  },
  {
   "cell_type": "code",
   "execution_count": 25,
   "metadata": {},
   "outputs": [
    {
     "data": {
      "image/png": "[encoded data removed]",
      "text/plain": [
       "<Figure size 792x288 with 2 Axes>"
      ]
     },
     "metadata": {},
     "output_type": "display_data"
    }
   ],
   "source": [
    "def plot_predictions(regressors, X, y, axes, label=None, style=\"r-\", data_style=\"b.\", data_label=None, column_index=2):\n",
    "    x1 = np.linspace(axes[0], axes[1], 500)\n",
    "    X_prime = np.matrix(np.ones(shape=(500, 1))) * np.matrix(np.mean(X, axis=0))\n",
    "    X_prime[:, column_index] = x1.reshape(500,1)\n",
    "    y_pred = sum(regressor.predict(X_prime) for regressor in regressors)\n",
    "    plt.plot(X[:, column_index], y, data_style, label=data_label)\n",
    "    plt.plot(x1, y_pred, style, linewidth=2, label=label)\n",
    "    if label or data_label:\n",
    "        plt.legend(loc=\"upper center\", fontsize=16)\n",
    "    plt.axis(axes)\n",
    "\n",
    "plt.figure(figsize=(11,4))\n",
    "\n",
    "plt.subplot(121)\n",
    "plot_predictions([gbrt], X_train_reg, y_train_reg, axes=[-0.5, 23.5, -0.1, 2000], label=\"Ensemble predictions\")\n",
    "plt.title(\"learning_rate={}, n_estimators={}\".format(gbrt.learning_rate, gbrt.n_estimators), fontsize=14)\n",
    "\n",
    "plt.subplot(122)\n",
    "plot_predictions([gbrt_slow], X_train_reg, y_train_reg, axes=[-0.5, 23.5, -0.1, 2000])\n",
    "plt.title(\"learning_rate={}, n_estimators={}\".format(gbrt_slow.learning_rate, gbrt_slow.n_estimators), fontsize=14)\n",
    "\n",
    "plt.show()"
   ]
  },
  {
   "cell_type": "markdown",
   "metadata": {},
   "source": [
    "The above lines do not seem very good. This is because all the features besides hr are set to their mean in the prediction of the `cnt` for the red line. Indeed, see the RMSE for these regressors:"
   ]
  },
  {
   "cell_type": "code",
   "execution_count": 26,
   "metadata": {},
   "outputs": [],
   "source": [
    "from sklearn.metrics import mean_squared_error\n",
    "\n",
    "bike_preds = [reg.predict(X_test_reg) for reg in (gbrt, gbrt_slow)]\n",
    "fast_mse = mean_squared_error(y_test_reg, bike_preds[0])\n",
    "fast_rmse = np.sqrt(fast_mse)\n",
    "slow_mse = mean_squared_error(y_test_reg, bike_preds[1])\n",
    "slow_rmse = np.sqrt(slow_mse)"
   ]
  },
  {
   "cell_type": "code",
   "execution_count": 27,
   "metadata": {},
   "outputs": [
    {
     "name": "stdout",
     "output_type": "stream",
     "text": [
      "58.569874596628836 44.29386889417899\n"
     ]
    }
   ],
   "source": [
    "print(fast_rmse, slow_rmse)"
   ]
  },
  {
   "cell_type": "code",
   "execution_count": 28,
   "metadata": {},
   "outputs": [
    {
     "name": "stdout",
     "output_type": "stream",
     "text": [
      "181\n"
     ]
    },
    {
     "data": {
      "text/plain": [
       "GradientBoostingRegressor(alpha=0.9, criterion='friedman_mse', init=None,\n",
       "                          learning_rate=0.1, loss='ls', max_depth=10,\n",
       "                          max_features=None, max_leaf_nodes=None,\n",
       "                          min_impurity_decrease=0.0, min_impurity_split=None,\n",
       "                          min_samples_leaf=1, min_samples_split=2,\n",
       "                          min_weight_fraction_leaf=0.0, n_estimators=181,\n",
       "                          n_iter_no_change=None, presort='auto',\n",
       "                          random_state=42, subsample=1.0, tol=0.0001,\n",
       "                          validation_fraction=0.1, verbose=0, warm_start=False)"
      ]
     },
     "execution_count": 28,
     "metadata": {},
     "output_type": "execute_result"
    }
   ],
   "source": [
    "X_train_reg_n, X_val_reg, y_train_reg_n, y_val_reg = train_test_split(X_train_reg, y_train_reg, random_state=28)\n",
    "\n",
    "gbrt = GradientBoostingRegressor(max_depth=10, n_estimators=500, random_state=42)\n",
    "gbrt.fit(X_train_reg_n, y_train_reg_n)\n",
    "errors = [mean_squared_error(y_val_reg, y_pred)\n",
    "          for y_pred in gbrt.staged_predict(X_val_reg)]\n",
    "bst_n_estimators = np.argmin(errors)\n",
    "print(bst_n_estimators)\n",
    "gbrt_best = GradientBoostingRegressor(max_depth=10,n_estimators=bst_n_estimators, random_state=42)\n",
    "gbrt_best.fit(X_train_reg, y_train_reg)"
   ]
  },
  {
   "cell_type": "code",
   "execution_count": 29,
   "metadata": {
    "scrolled": false
   },
   "outputs": [
    {
     "data": {
      "image/png": "[encoded data removed]",
      "text/plain": [
       "<Figure size 432x288 with 2 Axes>"
      ]
     },
     "metadata": {},
     "output_type": "display_data"
    }
   ],
   "source": [
    "min_error = np.min(errors)\n",
    "\n",
    "plt.subplot(121)\n",
    "plt.plot(errors, \"b.-\")\n",
    "plt.plot([bst_n_estimators, bst_n_estimators], [0, min_error], \"k--\")\n",
    "plt.plot([0, 500], [min_error, min_error], \"k--\")\n",
    "plt.plot(bst_n_estimators, min_error, \"ko\")\n",
    "plt.axis([0, 500, 1500, 3500])\n",
    "plt.xlabel(\"Number of trees\")\n",
    "plt.title(\"Validation error\", fontsize=14)\n",
    "\n",
    "def plot_predictions_prime(regressors, X, y, axes, label=None, style=\"r-\", data_style=\"b.\", data_label=None, column_index=2):\n",
    "    pred = regressors[0].predict(X)\n",
    "    y_pred = sum(regressor.predict(X) for regressor in regressors)\n",
    "    plt.plot(X[:, column_index], y, data_style, label=data_label)\n",
    "    plt.plot(X[:, column_index], pred, style, linewidth=2, label=label)\n",
    "    if label or data_label:\n",
    "        plt.legend(loc=\"upper center\", fontsize=16)\n",
    "    plt.axis(axes)\n",
    "\n",
    "plt.subplot(122)\n",
    "plot_predictions_prime([gbrt_best], X_test_reg, y_test_reg, axes=[-0.5, 23.5, -0.1, 2000], style='r.')\n",
    "plt.title(\"Best model (%d trees)\" % bst_n_estimators, fontsize=14)\n",
    "\n",
    "plt.show()"
   ]
  },
  {
   "cell_type": "code",
   "execution_count": 30,
   "metadata": {},
   "outputs": [
    {
     "data": {
      "text/plain": [
       "44.171047008694934"
      ]
     },
     "execution_count": 30,
     "metadata": {},
     "output_type": "execute_result"
    }
   ],
   "source": [
    "best_rmse = np.sqrt(mean_squared_error(gbrt_best.predict(X_test_reg), y_test_reg))\n",
    "best_rmse"
   ]
  },
  {
   "cell_type": "code",
   "execution_count": 31,
   "metadata": {},
   "outputs": [
    {
     "data": {
      "text/plain": [
       "array([[ 0.    ,  5.    , 16.    , ...,  0.697 ,  0.55  ,  0.3881],\n",
       "       [ 1.    , 12.    , 13.    , ...,  0.3636,  0.42  ,  0.    ],\n",
       "       [ 0.    ,  9.    , 12.    , ...,  0.6212,  0.69  ,  0.2239],\n",
       "       ...,\n",
       "       [ 0.    ,  8.    ,  9.    , ...,  0.6667,  0.74  ,  0.1642],\n",
       "       [ 1.    ,  6.    , 13.    , ...,  0.6212,  0.41  ,  0.0896],\n",
       "       [ 1.    ,  8.    , 21.    , ...,  0.6212,  0.54  ,  0.1045]])"
      ]
     },
     "execution_count": 31,
     "metadata": {},
     "output_type": "execute_result"
    }
   ],
   "source": [
    "X_test_reg"
   ]
  },
  {
   "cell_type": "code",
   "execution_count": null,
   "metadata": {},
   "outputs": [],
   "source": []
  },
  {
   "cell_type": "markdown",
   "metadata": {},
   "source": [
    "# Task 3: Implementing a stacking algorithm."
   ]
  },
  {
   "cell_type": "code",
   "execution_count": 32,
   "metadata": {},
   "outputs": [],
   "source": [
    "def stack(original_regressors, combiner, X_train, y_train, X_test):\n",
    "    X_trains, X_val, y_trains, y_val = train_test_split(X_train, y_train, random_state=28)\n",
    "    for r in original_regressors:\n",
    "        r.fit(X_trains, y_trains)\n",
    "    validation_regressions = [r.predict(X_val) for r in original_regressors]\n",
    "    X_val_prime = np.c_[X_val, np.transpose(validation_regressions)]\n",
    "    combiner.fit(X_val_prime, y_val)\n",
    "    test_regressions = [r.predict(X_test) for r in original_regressors]\n",
    "    X_test_prime = np.c_[X_test, np.transpose(test_regressions)]\n",
    "    return combiner.predict(X_test_prime)"
   ]
  },
  {
   "cell_type": "code",
   "execution_count": 33,
   "metadata": {},
   "outputs": [
    {
     "name": "stderr",
     "output_type": "stream",
     "text": [
      "/home/dks28/.local/lib/python3.6/site-packages/sklearn/ensemble/forest.py:245: FutureWarning: The default value of n_estimators will change from 10 in version 0.20 to 100 in 0.22.\n",
      "  \"10 in version 0.20 to 100 in 0.22.\", FutureWarning)\n"
     ]
    }
   ],
   "source": [
    "from sklearn.linear_model import LinearRegression\n",
    "from sklearn.tree import DecisionTreeRegressor\n",
    "from sklearn.ensemble import RandomForestRegressor\n",
    "\n",
    "\n",
    "ln_reg = LinearRegression()\n",
    "dt_reg = DecisionTreeRegressor()\n",
    "rf_reg = RandomForestRegressor()\n",
    "\n",
    "\n",
    "\n",
    "regs = [ln_reg, dt_reg, rf_reg]\n",
    "\n",
    "for r in regs:\n",
    "    r.fit(X_train_reg, y_train_reg)\n",
    "\n",
    "rmses = [np.sqrt(mean_squared_error(y_test_reg, r.predict(X_test_reg))) for r in regs]\n",
    "cmb_reg = GradientBoostingRegressor(max_depth=10, random_state=28, n_estimators=100)\n",
    "preds = stack(regs, cmb_reg, X_train_reg, y_train_reg, X_test_reg)"
   ]
  },
  {
   "cell_type": "code",
   "execution_count": 34,
   "metadata": {},
   "outputs": [],
   "source": [
    "rmse_stack = np.sqrt(mean_squared_error(preds, y_test_reg))"
   ]
  },
  {
   "cell_type": "code",
   "execution_count": 35,
   "metadata": {},
   "outputs": [
    {
     "name": "stdout",
     "output_type": "stream",
     "text": [
      "LinearRegression 141.35259713964427\n",
      "DecisionTreeRegressor 59.77666768899049\n",
      "RandomForestRegressor 48.758378239199196\n",
      "GradientBoostingRegressor 50.93953070994868\n"
     ]
    }
   ],
   "source": [
    "for r, e in zip(regs + [cmb_reg], rmses+[rmse_stack]):\n",
    "    print(r.__class__.__name__, e)"
   ]
  },
  {
   "cell_type": "code",
   "execution_count": null,
   "metadata": {},
   "outputs": [],
   "source": []
  }
 ],
 "metadata": {
  "kernelspec": {
   "display_name": "Python 3",
   "language": "python",
   "name": "python3"
  },
  "language_info": {
   "codemirror_mode": {
    "name": "ipython",
    "version": 3
   },
   "file_extension": ".py",
   "mimetype": "text/x-python",
   "name": "python",
   "nbconvert_exporter": "python",
   "pygments_lexer": "ipython3",
   "version": "3.6.5"
  }
 },
 "nbformat": 4,
 "nbformat_minor": 2
}
