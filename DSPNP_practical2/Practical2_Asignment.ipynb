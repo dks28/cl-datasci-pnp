{
 "cells": [
  {
   "cell_type": "code",
   "execution_count": 1,
   "metadata": {},
   "outputs": [],
   "source": [
    "import numpy as np\n",
    "import matplotlib.pyplot as plt\n",
    "import pandas as pd\n",
    "import matplotlib"
   ]
  },
  {
   "cell_type": "code",
   "execution_count": 2,
   "metadata": {},
   "outputs": [
    {
     "data": {
      "text/plain": [
       "['data', 'target', 'target_names', 'images', 'DESCR']"
      ]
     },
     "execution_count": 2,
     "metadata": {},
     "output_type": "execute_result"
    }
   ],
   "source": [
    "from sklearn import datasets\n",
    "digits = datasets.load_digits()\n",
    "list(digits.keys())"
   ]
  },
  {
   "cell_type": "code",
   "execution_count": 3,
   "metadata": {},
   "outputs": [
    {
     "data": {
      "text/plain": [
       "{'data': array([[ 0.,  0.,  5., ...,  0.,  0.,  0.],\n",
       "        [ 0.,  0.,  0., ..., 10.,  0.,  0.],\n",
       "        [ 0.,  0.,  0., ..., 16.,  9.,  0.],\n",
       "        ...,\n",
       "        [ 0.,  0.,  1., ...,  6.,  0.,  0.],\n",
       "        [ 0.,  0.,  2., ..., 12.,  0.,  0.],\n",
       "        [ 0.,  0., 10., ..., 12.,  1.,  0.]]),\n",
       " 'target': array([0, 1, 2, ..., 8, 9, 8]),\n",
       " 'target_names': array([0, 1, 2, 3, 4, 5, 6, 7, 8, 9]),\n",
       " 'images': array([[[ 0.,  0.,  5., ...,  1.,  0.,  0.],\n",
       "         [ 0.,  0., 13., ..., 15.,  5.,  0.],\n",
       "         [ 0.,  3., 15., ..., 11.,  8.,  0.],\n",
       "         ...,\n",
       "         [ 0.,  4., 11., ..., 12.,  7.,  0.],\n",
       "         [ 0.,  2., 14., ..., 12.,  0.,  0.],\n",
       "         [ 0.,  0.,  6., ...,  0.,  0.,  0.]],\n",
       " \n",
       "        [[ 0.,  0.,  0., ...,  5.,  0.,  0.],\n",
       "         [ 0.,  0.,  0., ...,  9.,  0.,  0.],\n",
       "         [ 0.,  0.,  3., ...,  6.,  0.,  0.],\n",
       "         ...,\n",
       "         [ 0.,  0.,  1., ...,  6.,  0.,  0.],\n",
       "         [ 0.,  0.,  1., ...,  6.,  0.,  0.],\n",
       "         [ 0.,  0.,  0., ..., 10.,  0.,  0.]],\n",
       " \n",
       "        [[ 0.,  0.,  0., ..., 12.,  0.,  0.],\n",
       "         [ 0.,  0.,  3., ..., 14.,  0.,  0.],\n",
       "         [ 0.,  0.,  8., ..., 16.,  0.,  0.],\n",
       "         ...,\n",
       "         [ 0.,  9., 16., ...,  0.,  0.,  0.],\n",
       "         [ 0.,  3., 13., ..., 11.,  5.,  0.],\n",
       "         [ 0.,  0.,  0., ..., 16.,  9.,  0.]],\n",
       " \n",
       "        ...,\n",
       " \n",
       "        [[ 0.,  0.,  1., ...,  1.,  0.,  0.],\n",
       "         [ 0.,  0., 13., ...,  2.,  1.,  0.],\n",
       "         [ 0.,  0., 16., ..., 16.,  5.,  0.],\n",
       "         ...,\n",
       "         [ 0.,  0., 16., ..., 15.,  0.,  0.],\n",
       "         [ 0.,  0., 15., ..., 16.,  0.,  0.],\n",
       "         [ 0.,  0.,  2., ...,  6.,  0.,  0.]],\n",
       " \n",
       "        [[ 0.,  0.,  2., ...,  0.,  0.,  0.],\n",
       "         [ 0.,  0., 14., ..., 15.,  1.,  0.],\n",
       "         [ 0.,  4., 16., ..., 16.,  7.,  0.],\n",
       "         ...,\n",
       "         [ 0.,  0.,  0., ..., 16.,  2.,  0.],\n",
       "         [ 0.,  0.,  4., ..., 16.,  2.,  0.],\n",
       "         [ 0.,  0.,  5., ..., 12.,  0.,  0.]],\n",
       " \n",
       "        [[ 0.,  0., 10., ...,  1.,  0.,  0.],\n",
       "         [ 0.,  2., 16., ...,  1.,  0.,  0.],\n",
       "         [ 0.,  0., 15., ..., 15.,  0.,  0.],\n",
       "         ...,\n",
       "         [ 0.,  4., 16., ..., 16.,  6.,  0.],\n",
       "         [ 0.,  8., 16., ..., 16.,  8.,  0.],\n",
       "         [ 0.,  1.,  8., ..., 12.,  1.,  0.]]]),\n",
       " 'DESCR': \".. _digits_dataset:\\n\\nOptical recognition of handwritten digits dataset\\n--------------------------------------------------\\n\\n**Data Set Characteristics:**\\n\\n    :Number of Instances: 5620\\n    :Number of Attributes: 64\\n    :Attribute Information: 8x8 image of integer pixels in the range 0..16.\\n    :Missing Attribute Values: None\\n    :Creator: E. Alpaydin (alpaydin '@' boun.edu.tr)\\n    :Date: July; 1998\\n\\nThis is a copy of the test set of the UCI ML hand-written digits datasets\\nhttps://archive.ics.uci.edu/ml/datasets/Optical+Recognition+of+Handwritten+Digits\\n\\nThe data set contains images of hand-written digits: 10 classes where\\neach class refers to a digit.\\n\\nPreprocessing programs made available by NIST were used to extract\\nnormalized bitmaps of handwritten digits from a preprinted form. From a\\ntotal of 43 people, 30 contributed to the training set and different 13\\nto the test set. 32x32 bitmaps are divided into nonoverlapping blocks of\\n4x4 and the number of on pixels are counted in each block. This generates\\nan input matrix of 8x8 where each element is an integer in the range\\n0..16. This reduces dimensionality and gives invariance to small\\ndistortions.\\n\\nFor info on NIST preprocessing routines, see M. D. Garris, J. L. Blue, G.\\nT. Candela, D. L. Dimmick, J. Geist, P. J. Grother, S. A. Janet, and C.\\nL. Wilson, NIST Form-Based Handprint Recognition System, NISTIR 5469,\\n1994.\\n\\n.. topic:: References\\n\\n  - C. Kaynak (1995) Methods of Combining Multiple Classifiers and Their\\n    Applications to Handwritten Digit Recognition, MSc Thesis, Institute of\\n    Graduate Studies in Science and Engineering, Bogazici University.\\n  - E. Alpaydin, C. Kaynak (1998) Cascading Classifiers, Kybernetika.\\n  - Ken Tang and Ponnuthurai N. Suganthan and Xi Yao and A. Kai Qin.\\n    Linear dimensionalityreduction using relevance weighted LDA. School of\\n    Electrical and Electronic Engineering Nanyang Technological University.\\n    2005.\\n  - Claudio Gentile. A New Approximate Maximal Margin Classification\\n    Algorithm. NIPS. 2000.\"}"
      ]
     },
     "execution_count": 3,
     "metadata": {},
     "output_type": "execute_result"
    }
   ],
   "source": [
    "digits"
   ]
  },
  {
   "cell_type": "code",
   "execution_count": 4,
   "metadata": {},
   "outputs": [
    {
     "data": {
      "text/plain": [
       "(1797, 64)"
      ]
     },
     "execution_count": 4,
     "metadata": {},
     "output_type": "execute_result"
    }
   ],
   "source": [
    "X, y = digits[\"data\"], digits[\"target\"]\n",
    "X.shape"
   ]
  },
  {
   "cell_type": "code",
   "execution_count": 5,
   "metadata": {},
   "outputs": [
    {
     "data": {
      "text/plain": [
       "(1797,)"
      ]
     },
     "execution_count": 5,
     "metadata": {},
     "output_type": "execute_result"
    }
   ],
   "source": [
    "y.shape"
   ]
  },
  {
   "cell_type": "code",
   "execution_count": 6,
   "metadata": {},
   "outputs": [
    {
     "data": {
      "image/png": "[encoded data removed]",
      "text/plain": [
       "<Figure size 432x288 with 1 Axes>"
      ]
     },
     "metadata": {},
     "output_type": "display_data"
    }
   ],
   "source": [
    "some_digit = X[8]\n",
    "some_digit_image = some_digit.reshape(8, 8)\n",
    "\n",
    "plt.imshow(some_digit_image, cmap=matplotlib.cm.binary, interpolation=\"nearest\")\n",
    "plt.axis(\"off\")\n",
    "plt.show()"
   ]
  },
  {
   "cell_type": "code",
   "execution_count": 7,
   "metadata": {},
   "outputs": [
    {
     "data": {
      "text/plain": [
       "8"
      ]
     },
     "execution_count": 7,
     "metadata": {},
     "output_type": "execute_result"
    }
   ],
   "source": [
    "y[8]"
   ]
  },
  {
   "cell_type": "markdown",
   "metadata": {},
   "source": [
    "Intuitively, the digits are unlikely to be linearly separable just by the individual pixel values; as basically all digits (with the exception of 0) are concentrated around the centre, with less densely coloured peripheries.\n",
    "As such, the kernel trick will likely have to be performed to get the classifiers to achieve good performance. \n",
    "\n",
    "As our first steps, we shall split the data into training and test sets as before, and do basic evaluation for some classifiers on the test set to get a feeling for the \"baseline\"."
   ]
  },
  {
   "cell_type": "code",
   "execution_count": 8,
   "metadata": {},
   "outputs": [
    {
     "name": "stdout",
     "output_type": "stream",
     "text": [
      "StratifiedShuffleSplit(n_splits=1, random_state=42, test_size=0.2,\n",
      "            train_size=None)\n",
      "TRAIN: 1437 TEST: 360\n",
      "(1437, 64) (1437,) (360, 64) (360,)\n"
     ]
    }
   ],
   "source": [
    "from sklearn.model_selection import StratifiedShuffleSplit\n",
    "\n",
    "split = StratifiedShuffleSplit(n_splits=1, test_size=0.2, random_state=42)\n",
    "split.get_n_splits(X, y)\n",
    "print(split)       \n",
    "\n",
    "for train_index, test_index in split.split(X, y):\n",
    "    print(\"TRAIN:\", len(train_index), \"TEST:\", len(test_index))\n",
    "    X_train, X_test = X[train_index], X[test_index]\n",
    "    y_train, y_test = y[train_index], y[test_index]\n",
    "\n",
    "print(X_train.shape, y_train.shape, X_test.shape, y_test.shape)"
   ]
  },
  {
   "cell_type": "code",
   "execution_count": 9,
   "metadata": {},
   "outputs": [
    {
     "data": {
      "text/html": [
       "<div>\n",
       "<style scoped>\n",
       "    .dataframe tbody tr th:only-of-type {\n",
       "        vertical-align: middle;\n",
       "    }\n",
       "\n",
       "    .dataframe tbody tr th {\n",
       "        vertical-align: top;\n",
       "    }\n",
       "\n",
       "    .dataframe thead th {\n",
       "        text-align: right;\n",
       "    }\n",
       "</style>\n",
       "<table border=\"1\" class=\"dataframe\">\n",
       "  <thead>\n",
       "    <tr style=\"text-align: right;\">\n",
       "      <th></th>\n",
       "      <th>Overall</th>\n",
       "      <th>Stratified tr</th>\n",
       "      <th>Stratified ts</th>\n",
       "      <th>Strat. tr %error</th>\n",
       "      <th>Strat. ts %error</th>\n",
       "    </tr>\n",
       "  </thead>\n",
       "  <tbody>\n",
       "    <tr>\n",
       "      <th>0</th>\n",
       "      <td>0.099054</td>\n",
       "      <td>0.098817</td>\n",
       "      <td>0.100000</td>\n",
       "      <td>-0.239263</td>\n",
       "      <td>0.955056</td>\n",
       "    </tr>\n",
       "    <tr>\n",
       "      <th>1</th>\n",
       "      <td>0.101280</td>\n",
       "      <td>0.101601</td>\n",
       "      <td>0.100000</td>\n",
       "      <td>0.316594</td>\n",
       "      <td>-1.263736</td>\n",
       "    </tr>\n",
       "    <tr>\n",
       "      <th>2</th>\n",
       "      <td>0.098497</td>\n",
       "      <td>0.098817</td>\n",
       "      <td>0.097222</td>\n",
       "      <td>0.324357</td>\n",
       "      <td>-1.294727</td>\n",
       "    </tr>\n",
       "    <tr>\n",
       "      <th>3</th>\n",
       "      <td>0.101836</td>\n",
       "      <td>0.101601</td>\n",
       "      <td>0.102778</td>\n",
       "      <td>-0.231584</td>\n",
       "      <td>0.924408</td>\n",
       "    </tr>\n",
       "    <tr>\n",
       "      <th>4</th>\n",
       "      <td>0.100723</td>\n",
       "      <td>0.100905</td>\n",
       "      <td>0.100000</td>\n",
       "      <td>0.179933</td>\n",
       "      <td>-0.718232</td>\n",
       "    </tr>\n",
       "    <tr>\n",
       "      <th>5</th>\n",
       "      <td>0.101280</td>\n",
       "      <td>0.100905</td>\n",
       "      <td>0.102778</td>\n",
       "      <td>-0.370506</td>\n",
       "      <td>1.478938</td>\n",
       "    </tr>\n",
       "    <tr>\n",
       "      <th>6</th>\n",
       "      <td>0.100723</td>\n",
       "      <td>0.100905</td>\n",
       "      <td>0.100000</td>\n",
       "      <td>0.179933</td>\n",
       "      <td>-0.718232</td>\n",
       "    </tr>\n",
       "    <tr>\n",
       "      <th>7</th>\n",
       "      <td>0.099610</td>\n",
       "      <td>0.099513</td>\n",
       "      <td>0.100000</td>\n",
       "      <td>-0.097969</td>\n",
       "      <td>0.391061</td>\n",
       "    </tr>\n",
       "    <tr>\n",
       "      <th>8</th>\n",
       "      <td>0.096828</td>\n",
       "      <td>0.096729</td>\n",
       "      <td>0.097222</td>\n",
       "      <td>-0.101984</td>\n",
       "      <td>0.407088</td>\n",
       "    </tr>\n",
       "    <tr>\n",
       "      <th>9</th>\n",
       "      <td>0.100167</td>\n",
       "      <td>0.100209</td>\n",
       "      <td>0.100000</td>\n",
       "      <td>0.041754</td>\n",
       "      <td>-0.166667</td>\n",
       "    </tr>\n",
       "  </tbody>\n",
       "</table>\n",
       "</div>"
      ],
      "text/plain": [
       "    Overall  Stratified tr  Stratified ts  Strat. tr %error  Strat. ts %error\n",
       "0  0.099054       0.098817       0.100000         -0.239263          0.955056\n",
       "1  0.101280       0.101601       0.100000          0.316594         -1.263736\n",
       "2  0.098497       0.098817       0.097222          0.324357         -1.294727\n",
       "3  0.101836       0.101601       0.102778         -0.231584          0.924408\n",
       "4  0.100723       0.100905       0.100000          0.179933         -0.718232\n",
       "5  0.101280       0.100905       0.102778         -0.370506          1.478938\n",
       "6  0.100723       0.100905       0.100000          0.179933         -0.718232\n",
       "7  0.099610       0.099513       0.100000         -0.097969          0.391061\n",
       "8  0.096828       0.096729       0.097222         -0.101984          0.407088\n",
       "9  0.100167       0.100209       0.100000          0.041754         -0.166667"
      ]
     },
     "execution_count": 9,
     "metadata": {},
     "output_type": "execute_result"
    }
   ],
   "source": [
    "def subset_proportions(subset):\n",
    "    props = {}\n",
    "    for value in set(subset):\n",
    "        data_value = [i for i in subset if i==value]\n",
    "        props[value] = len(data_value) / len(subset)\n",
    "    return props\n",
    "\n",
    "   \n",
    "compare_props = pd.DataFrame({\n",
    "    \"Overall\": subset_proportions(digits[\"target\"]),\n",
    "    \"Stratified tr\": subset_proportions(y_train),\n",
    "    \"Stratified ts\": subset_proportions(y_test),\n",
    "})\n",
    "compare_props[\"Strat. tr %error\"] = 100 * compare_props[\"Stratified tr\"] / compare_props[\"Overall\"] - 100\n",
    "compare_props[\"Strat. ts %error\"] = 100 * compare_props[\"Stratified ts\"] / compare_props[\"Overall\"] - 100\n",
    "\n",
    "compare_props.sort_index()"
   ]
  },
  {
   "cell_type": "markdown",
   "metadata": {},
   "source": [
    "We can see that the stratification works less perfectly for a larger number of classes, but this perhaps was to be expected---especially for the fairly small size test set.\n",
    "\n",
    "Regardless, consider now some very basic classification efforts:"
   ]
  },
  {
   "cell_type": "code",
   "execution_count": 10,
   "metadata": {},
   "outputs": [],
   "source": [
    "from sklearn.linear_model import SGDClassifier            # Perceptron classifier for binary class detection.\n",
    "from sklearn.linear_model import LogisticRegression       # Logistic Regressor; also typically for binary classification\n",
    "from sklearn.naive_bayes import GaussianNB, MultinomialNB # Naïve Bayes classifiers from the practical.\n",
    "from sklearn.tree import DecisionTreeClassifier           # Decision Tree that did notoccur in the practical\n",
    "from sklearn.ensemble import RandomForestClassifier       # Also not in practical. (probs in practical 3 tho)\n",
    "from sklearn.tree import ExtraTreeClassifier              # Weird randomised tree classifier, why not try it here? "
   ]
  },
  {
   "cell_type": "markdown",
   "metadata": {},
   "source": [
    "### Binary classification\n",
    "Let us first try to get a baseline for binary classification to see how well the classifiers might do for this simpler task: We'll try to distinguish digits of class 0 from the other classes."
   ]
  },
  {
   "cell_type": "code",
   "execution_count": 11,
   "metadata": {
    "scrolled": false
   },
   "outputs": [
    {
     "name": "stderr",
     "output_type": "stream",
     "text": [
      "/home/dks28/.local/lib/python3.6/site-packages/sklearn/linear_model/logistic.py:432: FutureWarning: Default solver will be changed to 'lbfgs' in 0.22. Specify a solver to silence this warning.\n",
      "  FutureWarning)\n",
      "/home/dks28/.local/lib/python3.6/site-packages/sklearn/ensemble/forest.py:245: FutureWarning: The default value of n_estimators will change from 10 in version 0.20 to 100 in 0.22.\n",
      "  \"10 in version 0.20 to 100 in 0.22.\", FutureWarning)\n",
      "/home/dks28/.local/lib/python3.6/site-packages/sklearn/ensemble/forest.py:245: FutureWarning: The default value of n_estimators will change from 10 in version 0.20 to 100 in 0.22.\n",
      "  \"10 in version 0.20 to 100 in 0.22.\", FutureWarning)\n"
     ]
    }
   ],
   "source": [
    "zero_features = X[8]\n",
    "zero_label = y[8]\n",
    "\n",
    "y_train_zero = (y_train == 8)\n",
    "y_test_zero = (y_test == 8)\n",
    "\n",
    "sgd = SGDClassifier(max_iter=8, tol=None, random_state=42,\n",
    "                   loss=\"perceptron\", eta0=1, learning_rate=\"constant\", penalty=None)\n",
    "log_reg = LogisticRegression()\n",
    "gnb = GaussianNB()\n",
    "mnb = MultinomialNB()\n",
    "dte = DecisionTreeClassifier(criterion='entropy')       # Make this behave like HUffmann trees from InfoTheory\n",
    "dtg = DecisionTreeClassifier(criterion='gini')\n",
    "rfe = RandomForestClassifier(criterion='entropy')\n",
    "rfg = RandomForestClassifier(criterion='gini')\n",
    "ext = ExtraTreeClassifier()\n",
    "\n",
    "models_ = [sgd, log_reg, gnb, mnb, dte, dtg, rfe, rfg, ext]\n",
    "modellabels = {sgd: 'Perceptron', \n",
    "               log_reg: 'Logistic Regressor',\n",
    "               gnb: 'Gaussian NB',\n",
    "               mnb: 'Multinomial NB',\n",
    "               dte: 'Decision Tree (Entropy)',\n",
    "               dtg: 'Decision Tree (Gini)',\n",
    "               rfe: 'Random Forest (Entropy)',\n",
    "               rfg: 'Random Forest (Gini)',\n",
    "               ext: 'Extra Decision Tree'\n",
    "              }\n",
    "for model_ in models_:\n",
    "    model_.fit(X_train, y_train_zero)"
   ]
  },
  {
   "cell_type": "markdown",
   "metadata": {},
   "source": [
    "Let's see if these work on our chosen example before we go any further:"
   ]
  },
  {
   "cell_type": "code",
   "execution_count": 12,
   "metadata": {},
   "outputs": [
    {
     "name": "stdout",
     "output_type": "stream",
     "text": [
      "SGDClassifier(alpha=0.0001, average=False, class_weight=None,\n",
      "              early_stopping=False, epsilon=0.1, eta0=1, fit_intercept=True,\n",
      "              l1_ratio=0.15, learning_rate='constant', loss='perceptron',\n",
      "              max_iter=8, n_iter_no_change=5, n_jobs=None, penalty=None,\n",
      "              power_t=0.5, random_state=42, shuffle=True, tol=None,\n",
      "              validation_fraction=0.1, verbose=0, warm_start=False) \n",
      " [ True] \n",
      "\n",
      "\n",
      "LogisticRegression(C=1.0, class_weight=None, dual=False, fit_intercept=True,\n",
      "                   intercept_scaling=1, l1_ratio=None, max_iter=100,\n",
      "                   multi_class='warn', n_jobs=None, penalty='l2',\n",
      "                   random_state=None, solver='warn', tol=0.0001, verbose=0,\n",
      "                   warm_start=False) \n",
      " [ True] \n",
      "\n",
      "\n",
      "GaussianNB(priors=None, var_smoothing=1e-09) \n",
      " [ True] \n",
      "\n",
      "\n",
      "MultinomialNB(alpha=1.0, class_prior=None, fit_prior=True) \n",
      " [ True] \n",
      "\n",
      "\n",
      "DecisionTreeClassifier(class_weight=None, criterion='entropy', max_depth=None,\n",
      "                       max_features=None, max_leaf_nodes=None,\n",
      "                       min_impurity_decrease=0.0, min_impurity_split=None,\n",
      "                       min_samples_leaf=1, min_samples_split=2,\n",
      "                       min_weight_fraction_leaf=0.0, presort=False,\n",
      "                       random_state=None, splitter='best') \n",
      " [ True] \n",
      "\n",
      "\n",
      "DecisionTreeClassifier(class_weight=None, criterion='gini', max_depth=None,\n",
      "                       max_features=None, max_leaf_nodes=None,\n",
      "                       min_impurity_decrease=0.0, min_impurity_split=None,\n",
      "                       min_samples_leaf=1, min_samples_split=2,\n",
      "                       min_weight_fraction_leaf=0.0, presort=False,\n",
      "                       random_state=None, splitter='best') \n",
      " [ True] \n",
      "\n",
      "\n",
      "RandomForestClassifier(bootstrap=True, class_weight=None, criterion='entropy',\n",
      "                       max_depth=None, max_features='auto', max_leaf_nodes=None,\n",
      "                       min_impurity_decrease=0.0, min_impurity_split=None,\n",
      "                       min_samples_leaf=1, min_samples_split=2,\n",
      "                       min_weight_fraction_leaf=0.0, n_estimators=10,\n",
      "                       n_jobs=None, oob_score=False, random_state=None,\n",
      "                       verbose=0, warm_start=False) \n",
      " [ True] \n",
      "\n",
      "\n",
      "RandomForestClassifier(bootstrap=True, class_weight=None, criterion='gini',\n",
      "                       max_depth=None, max_features='auto', max_leaf_nodes=None,\n",
      "                       min_impurity_decrease=0.0, min_impurity_split=None,\n",
      "                       min_samples_leaf=1, min_samples_split=2,\n",
      "                       min_weight_fraction_leaf=0.0, n_estimators=10,\n",
      "                       n_jobs=None, oob_score=False, random_state=None,\n",
      "                       verbose=0, warm_start=False) \n",
      " [ True] \n",
      "\n",
      "\n",
      "ExtraTreeClassifier(class_weight=None, criterion='gini', max_depth=None,\n",
      "                    max_features='auto', max_leaf_nodes=None,\n",
      "                    min_impurity_decrease=0.0, min_impurity_split=None,\n",
      "                    min_samples_leaf=1, min_samples_split=2,\n",
      "                    min_weight_fraction_leaf=0.0, random_state=None,\n",
      "                    splitter='random') \n",
      " [ True] \n",
      "\n",
      "\n"
     ]
    }
   ],
   "source": [
    "for model_ in models_:\n",
    "    print(model_, '\\n',model_.predict([zero_features]), '\\n\\n')"
   ]
  },
  {
   "cell_type": "markdown",
   "metadata": {},
   "source": [
    "Hooray, they all manage this one simple task. Let's see how they fare for our test set overall:"
   ]
  },
  {
   "cell_type": "code",
   "execution_count": 13,
   "metadata": {},
   "outputs": [],
   "source": [
    "from sklearn.model_selection import cross_val_predict\n",
    "from sklearn.metrics import confusion_matrix\n",
    "\n",
    "from sklearn.metrics import precision_score, recall_score, f1_score"
   ]
  },
  {
   "cell_type": "code",
   "execution_count": 14,
   "metadata": {
    "scrolled": false
   },
   "outputs": [
    {
     "name": "stdout",
     "output_type": "stream",
     "text": [
      "SGDClassifier(alpha=0.0001, average=False, class_weight=None,\n",
      "              early_stopping=False, epsilon=0.1, eta0=1, fit_intercept=True,\n",
      "              l1_ratio=0.15, learning_rate='constant', loss='perceptron',\n",
      "              max_iter=8, n_iter_no_change=5, n_jobs=None, penalty=None,\n",
      "              power_t=0.5, random_state=42, shuffle=True, tol=None,\n",
      "              validation_fraction=0.1, verbose=0, warm_start=False) \n",
      "\n",
      "[1274, 24]\n",
      "[66, 73]\n",
      "Precision: 0.7525773195876289\n",
      "Recall:    0.5251798561151079\n",
      "F1-Score:  0.6186440677966102\n",
      "\n",
      "\n",
      "\n",
      "LogisticRegression(C=1.0, class_weight=None, dual=False, fit_intercept=True,\n",
      "                   intercept_scaling=1, l1_ratio=None, max_iter=100,\n",
      "                   multi_class='warn', n_jobs=None, penalty='l2',\n",
      "                   random_state=None, solver='warn', tol=0.0001, verbose=0,\n",
      "                   warm_start=False) \n",
      "\n"
     ]
    },
    {
     "name": "stderr",
     "output_type": "stream",
     "text": [
      "/home/dks28/.local/lib/python3.6/site-packages/sklearn/linear_model/logistic.py:432: FutureWarning: Default solver will be changed to 'lbfgs' in 0.22. Specify a solver to silence this warning.\n",
      "  FutureWarning)\n",
      "/home/dks28/.local/lib/python3.6/site-packages/sklearn/linear_model/logistic.py:432: FutureWarning: Default solver will be changed to 'lbfgs' in 0.22. Specify a solver to silence this warning.\n",
      "  FutureWarning)\n",
      "/home/dks28/.local/lib/python3.6/site-packages/sklearn/linear_model/logistic.py:432: FutureWarning: Default solver will be changed to 'lbfgs' in 0.22. Specify a solver to silence this warning.\n",
      "  FutureWarning)\n",
      "/home/dks28/.local/lib/python3.6/site-packages/sklearn/linear_model/logistic.py:432: FutureWarning: Default solver will be changed to 'lbfgs' in 0.22. Specify a solver to silence this warning.\n",
      "  FutureWarning)\n",
      "/home/dks28/.local/lib/python3.6/site-packages/sklearn/linear_model/logistic.py:432: FutureWarning: Default solver will be changed to 'lbfgs' in 0.22. Specify a solver to silence this warning.\n",
      "  FutureWarning)\n"
     ]
    },
    {
     "name": "stdout",
     "output_type": "stream",
     "text": [
      "[1266, 32]\n",
      "[36, 103]\n",
      "Precision: 0.762962962962963\n",
      "Recall:    0.7410071942446043\n",
      "F1-Score:  0.751824817518248\n",
      "\n",
      "\n",
      "\n",
      "GaussianNB(priors=None, var_smoothing=1e-09) \n",
      "\n",
      "[606, 692]\n",
      "[1, 138]\n",
      "Precision: 0.16626506024096385\n",
      "Recall:    0.9928057553956835\n",
      "F1-Score:  0.28482972136222906\n",
      "\n",
      "\n",
      "\n",
      "MultinomialNB(alpha=1.0, class_prior=None, fit_prior=True) \n",
      "\n",
      "[1075, 223]\n",
      "[19, 120]\n",
      "Precision: 0.3498542274052478\n",
      "Recall:    0.8633093525179856\n",
      "F1-Score:  0.4979253112033194\n",
      "\n",
      "\n",
      "\n",
      "DecisionTreeClassifier(class_weight=None, criterion='entropy', max_depth=None,\n",
      "                       max_features=None, max_leaf_nodes=None,\n",
      "                       min_impurity_decrease=0.0, min_impurity_split=None,\n",
      "                       min_samples_leaf=1, min_samples_split=2,\n",
      "                       min_weight_fraction_leaf=0.0, presort=False,\n",
      "                       random_state=None, splitter='best') \n",
      "\n",
      "[1269, 29]\n",
      "[35, 104]\n",
      "Precision: 0.7819548872180451\n",
      "Recall:    0.7482014388489209\n",
      "F1-Score:  0.7647058823529411\n",
      "\n",
      "\n",
      "\n",
      "DecisionTreeClassifier(class_weight=None, criterion='gini', max_depth=None,\n",
      "                       max_features=None, max_leaf_nodes=None,\n",
      "                       min_impurity_decrease=0.0, min_impurity_split=None,\n",
      "                       min_samples_leaf=1, min_samples_split=2,\n",
      "                       min_weight_fraction_leaf=0.0, presort=False,\n",
      "                       random_state=None, splitter='best') \n",
      "\n",
      "[1252, 46]\n",
      "[39, 100]\n",
      "Precision: 0.684931506849315\n",
      "Recall:    0.7194244604316546\n",
      "F1-Score:  0.7017543859649122\n",
      "\n",
      "\n",
      "\n",
      "RandomForestClassifier(bootstrap=True, class_weight=None, criterion='entropy',\n",
      "                       max_depth=None, max_features='auto', max_leaf_nodes=None,\n",
      "                       min_impurity_decrease=0.0, min_impurity_split=None,\n",
      "                       min_samples_leaf=1, min_samples_split=2,\n",
      "                       min_weight_fraction_leaf=0.0, n_estimators=10,\n",
      "                       n_jobs=None, oob_score=False, random_state=None,\n",
      "                       verbose=0, warm_start=False) \n",
      "\n",
      "[1295, 3]\n",
      "[52, 87]\n",
      "Precision: 0.9666666666666667\n",
      "Recall:    0.6258992805755396\n",
      "F1-Score:  0.759825327510917\n",
      "\n",
      "\n",
      "\n",
      "RandomForestClassifier(bootstrap=True, class_weight=None, criterion='gini',\n",
      "                       max_depth=None, max_features='auto', max_leaf_nodes=None,\n",
      "                       min_impurity_decrease=0.0, min_impurity_split=None,\n",
      "                       min_samples_leaf=1, min_samples_split=2,\n",
      "                       min_weight_fraction_leaf=0.0, n_estimators=10,\n",
      "                       n_jobs=None, oob_score=False, random_state=None,\n",
      "                       verbose=0, warm_start=False) \n",
      "\n",
      "[1298, 0]\n",
      "[56, 83]\n",
      "Precision: 1.0\n",
      "Recall:    0.5971223021582733\n",
      "F1-Score:  0.7477477477477478\n",
      "\n",
      "\n",
      "\n",
      "ExtraTreeClassifier(class_weight=None, criterion='gini', max_depth=None,\n",
      "                    max_features='auto', max_leaf_nodes=None,\n",
      "                    min_impurity_decrease=0.0, min_impurity_split=None,\n",
      "                    min_samples_leaf=1, min_samples_split=2,\n",
      "                    min_weight_fraction_leaf=0.0, random_state=None,\n",
      "                    splitter='random') \n",
      "\n",
      "[1247, 51]\n",
      "[51, 88]\n",
      "Precision: 0.6330935251798561\n",
      "Recall:    0.6330935251798561\n",
      "F1-Score:  0.6330935251798561\n",
      "\n",
      "\n",
      "\n"
     ]
    }
   ],
   "source": [
    "for model_ in models_:\n",
    "    print(model_, '\\n')\n",
    "    y_train_pred = cross_val_predict(model_, X_train, y_train_zero, cv=5)\n",
    "    cm = confusion_matrix(y_train_zero, y_train_pred)\n",
    "    print(list(cm[0,:]))\n",
    "    print(list(cm[1,:]))\n",
    "    p = precision_score(y_train_zero, y_train_pred)\n",
    "    r = recall_score(y_train_zero, y_train_pred)\n",
    "    f1 = f1_score(y_train_zero, y_train_pred)\n",
    "    print('Precision: {}'.format(str(p)))\n",
    "    print('Recall:    {}'.format(str(r)))\n",
    "    print('F1-Score:  {}'.format(str(f1)))\n",
    "    print('\\n\\n')"
   ]
  },
  {
   "cell_type": "markdown",
   "metadata": {},
   "source": [
    "In general, we can see that the logistic regressor actually seems to perform best, on all the metric, with only one misclassification on this particular data set. \n",
    "\n",
    "What is interesting to see is that most classifiers have similar numbers of false negatives as false positives, but the naive bayes classifiers make much more (numerically) false positive mistakes than false negatives, whereas the random forest is skewed towards false negatives. Indeed, consider the following:"
   ]
  },
  {
   "cell_type": "code",
   "execution_count": 15,
   "metadata": {
    "scrolled": false
   },
   "outputs": [
    {
     "name": "stdout",
     "output_type": "stream",
     "text": [
      "SGDClassifier(alpha=0.0001, average=False, class_weight=None,\n",
      "              early_stopping=False, epsilon=0.1, eta0=1, fit_intercept=True,\n",
      "              l1_ratio=0.15, learning_rate='constant', loss='perceptron',\n",
      "              max_iter=8, n_iter_no_change=5, n_jobs=None, penalty=None,\n",
      "              power_t=0.5, random_state=42, shuffle=True, tol=None,\n",
      "              validation_fraction=0.1, verbose=0, warm_start=False) \n",
      "\n",
      "[1274, 24]\n",
      "[66, 73]\n",
      "False Positive Rate: 0.01848998459167951\n",
      "False Negative Rate: 0.4748201438848921\n",
      "Rate of false negatives relative to rate of false positives: 25.67985611510791\n",
      "\n",
      "\n",
      "\n",
      "LogisticRegression(C=1.0, class_weight=None, dual=False, fit_intercept=True,\n",
      "                   intercept_scaling=1, l1_ratio=None, max_iter=100,\n",
      "                   multi_class='warn', n_jobs=None, penalty='l2',\n",
      "                   random_state=None, solver='warn', tol=0.0001, verbose=0,\n",
      "                   warm_start=False) \n",
      "\n"
     ]
    },
    {
     "name": "stderr",
     "output_type": "stream",
     "text": [
      "/home/dks28/.local/lib/python3.6/site-packages/sklearn/linear_model/logistic.py:432: FutureWarning: Default solver will be changed to 'lbfgs' in 0.22. Specify a solver to silence this warning.\n",
      "  FutureWarning)\n",
      "/home/dks28/.local/lib/python3.6/site-packages/sklearn/linear_model/logistic.py:432: FutureWarning: Default solver will be changed to 'lbfgs' in 0.22. Specify a solver to silence this warning.\n",
      "  FutureWarning)\n",
      "/home/dks28/.local/lib/python3.6/site-packages/sklearn/linear_model/logistic.py:432: FutureWarning: Default solver will be changed to 'lbfgs' in 0.22. Specify a solver to silence this warning.\n",
      "  FutureWarning)\n",
      "/home/dks28/.local/lib/python3.6/site-packages/sklearn/linear_model/logistic.py:432: FutureWarning: Default solver will be changed to 'lbfgs' in 0.22. Specify a solver to silence this warning.\n",
      "  FutureWarning)\n",
      "/home/dks28/.local/lib/python3.6/site-packages/sklearn/linear_model/logistic.py:432: FutureWarning: Default solver will be changed to 'lbfgs' in 0.22. Specify a solver to silence this warning.\n",
      "  FutureWarning)\n"
     ]
    },
    {
     "name": "stdout",
     "output_type": "stream",
     "text": [
      "[1266, 32]\n",
      "[36, 103]\n",
      "False Positive Rate: 0.02465331278890601\n",
      "False Negative Rate: 0.2589928057553957\n",
      "Rate of false negatives relative to rate of false positives: 10.505395683453237\n",
      "\n",
      "\n",
      "\n",
      "GaussianNB(priors=None, var_smoothing=1e-09) \n",
      "\n",
      "[606, 692]\n",
      "[1, 138]\n",
      "False Positive Rate: 0.5331278890600925\n",
      "False Negative Rate: 0.007194244604316547\n",
      "Rate of false negatives relative to rate of false positives: 0.013494406786709361\n",
      "\n",
      "\n",
      "\n",
      "MultinomialNB(alpha=1.0, class_prior=None, fit_prior=True) \n",
      "\n",
      "[1075, 223]\n",
      "[19, 120]\n",
      "False Positive Rate: 0.17180277349768874\n",
      "False Negative Rate: 0.1366906474820144\n",
      "Rate of false negatives relative to rate of false positives: 0.7956253831015906\n",
      "\n",
      "\n",
      "\n",
      "DecisionTreeClassifier(class_weight=None, criterion='entropy', max_depth=None,\n",
      "                       max_features=None, max_leaf_nodes=None,\n",
      "                       min_impurity_decrease=0.0, min_impurity_split=None,\n",
      "                       min_samples_leaf=1, min_samples_split=2,\n",
      "                       min_weight_fraction_leaf=0.0, presort=False,\n",
      "                       random_state=None, splitter='best') \n",
      "\n",
      "[1270, 28]\n",
      "[31, 108]\n",
      "False Positive Rate: 0.02157164869029276\n",
      "False Negative Rate: 0.22302158273381295\n",
      "Rate of false negatives relative to rate of false positives: 10.338643371017472\n",
      "\n",
      "\n",
      "\n",
      "DecisionTreeClassifier(class_weight=None, criterion='gini', max_depth=None,\n",
      "                       max_features=None, max_leaf_nodes=None,\n",
      "                       min_impurity_decrease=0.0, min_impurity_split=None,\n",
      "                       min_samples_leaf=1, min_samples_split=2,\n",
      "                       min_weight_fraction_leaf=0.0, presort=False,\n",
      "                       random_state=None, splitter='best') \n",
      "\n",
      "[1252, 46]\n",
      "[43, 96]\n",
      "False Positive Rate: 0.03543913713405239\n",
      "False Negative Rate: 0.30935251798561153\n",
      "Rate of false negatives relative to rate of false positives: 8.729121050985299\n",
      "\n",
      "\n",
      "\n",
      "RandomForestClassifier(bootstrap=True, class_weight=None, criterion='entropy',\n",
      "                       max_depth=None, max_features='auto', max_leaf_nodes=None,\n",
      "                       min_impurity_decrease=0.0, min_impurity_split=None,\n",
      "                       min_samples_leaf=1, min_samples_split=2,\n",
      "                       min_weight_fraction_leaf=0.0, n_estimators=10,\n",
      "                       n_jobs=None, oob_score=False, random_state=None,\n",
      "                       verbose=0, warm_start=False) \n",
      "\n",
      "[1297, 1]\n",
      "[51, 88]\n",
      "False Positive Rate: 0.0007704160246533128\n",
      "False Negative Rate: 0.3669064748201439\n",
      "Rate of false negatives relative to rate of false positives: 476.2446043165467\n",
      "\n",
      "\n",
      "\n",
      "RandomForestClassifier(bootstrap=True, class_weight=None, criterion='gini',\n",
      "                       max_depth=None, max_features='auto', max_leaf_nodes=None,\n",
      "                       min_impurity_decrease=0.0, min_impurity_split=None,\n",
      "                       min_samples_leaf=1, min_samples_split=2,\n",
      "                       min_weight_fraction_leaf=0.0, n_estimators=10,\n",
      "                       n_jobs=None, oob_score=False, random_state=None,\n",
      "                       verbose=0, warm_start=False) \n",
      "\n",
      "[1298, 0]\n",
      "[58, 81]\n",
      "False Positive Rate: 0.0\n",
      "False Negative Rate: 0.4172661870503597\n",
      "Rate of false negatives relative to rate of false positives: inf\n",
      "\n",
      "\n",
      "\n",
      "ExtraTreeClassifier(class_weight=None, criterion='gini', max_depth=None,\n",
      "                    max_features='auto', max_leaf_nodes=None,\n",
      "                    min_impurity_decrease=0.0, min_impurity_split=None,\n",
      "                    min_samples_leaf=1, min_samples_split=2,\n",
      "                    min_weight_fraction_leaf=0.0, random_state=None,\n",
      "                    splitter='random') \n",
      "\n",
      "[1228, 70]\n",
      "[48, 91]\n",
      "False Positive Rate: 0.053929121725731895\n",
      "False Negative Rate: 0.34532374100719426\n",
      "Rate of false negatives relative to rate of false positives: 6.403288797533402\n",
      "\n",
      "\n",
      "\n"
     ]
    },
    {
     "name": "stderr",
     "output_type": "stream",
     "text": [
      "/usr/local/lib/python3.6/dist-packages/ipykernel_launcher.py:9: RuntimeWarning: divide by zero encountered in double_scalars\n",
      "  if __name__ == '__main__':\n"
     ]
    }
   ],
   "source": [
    "for model_ in models_:\n",
    "    print(model_, '\\n')\n",
    "    y_train_pred = cross_val_predict(model_, X_train, y_train_zero, cv=5)\n",
    "    cm = confusion_matrix(y_train_zero, y_train_pred)\n",
    "    print(list(cm[0,:]))\n",
    "    print(list(cm[1,:]))\n",
    "    fnr = cm[1,0]/(cm[1, :].sum())\n",
    "    fpr = cm[0,1]/(cm[0, :].sum())\n",
    "    err = fnr / fpr\n",
    "    print('False Positive Rate:', fpr)\n",
    "    print('False Negative Rate:', fnr)\n",
    "    print('Rate of false negatives relative to rate of false positives:', err)\n",
    "    print('\\n\\n')"
   ]
  },
  {
   "cell_type": "markdown",
   "metadata": {},
   "source": [
    "This shows how each of the classifiers except for the naive bayes classifiers is much more likely (in relative terms) to miscalssify what is actually an 8 than to misclassify something else! \n",
    "\n",
    "Let us also explore the precision/recall tradeoff for varying degrees of classifier conservativeness:"
   ]
  },
  {
   "cell_type": "code",
   "execution_count": 16,
   "metadata": {},
   "outputs": [
    {
     "name": "stderr",
     "output_type": "stream",
     "text": [
      "/home/dks28/.local/lib/python3.6/site-packages/sklearn/linear_model/logistic.py:432: FutureWarning: Default solver will be changed to 'lbfgs' in 0.22. Specify a solver to silence this warning.\n",
      "  FutureWarning)\n",
      "/home/dks28/.local/lib/python3.6/site-packages/sklearn/linear_model/logistic.py:432: FutureWarning: Default solver will be changed to 'lbfgs' in 0.22. Specify a solver to silence this warning.\n",
      "  FutureWarning)\n",
      "/home/dks28/.local/lib/python3.6/site-packages/sklearn/linear_model/logistic.py:432: FutureWarning: Default solver will be changed to 'lbfgs' in 0.22. Specify a solver to silence this warning.\n",
      "  FutureWarning)\n",
      "/home/dks28/.local/lib/python3.6/site-packages/sklearn/linear_model/logistic.py:432: FutureWarning: Default solver will be changed to 'lbfgs' in 0.22. Specify a solver to silence this warning.\n",
      "  FutureWarning)\n",
      "/home/dks28/.local/lib/python3.6/site-packages/sklearn/linear_model/logistic.py:432: FutureWarning: Default solver will be changed to 'lbfgs' in 0.22. Specify a solver to silence this warning.\n",
      "  FutureWarning)\n"
     ]
    },
    {
     "data": {
      "image/png": "[encoded data removed]",
      "text/plain": [
       "<Figure size 432x288 with 1 Axes>"
      ]
     },
     "metadata": {},
     "output_type": "display_data"
    }
   ],
   "source": [
    "from sklearn.metrics import precision_recall_curve\n",
    "\n",
    "y_scores = lambda model_, method_ : cross_val_predict(model_, \n",
    "                                             X_train, \n",
    "                                             y_train_zero, \n",
    "                                             cv=5, \n",
    "                                             method=method_)\n",
    "\n",
    "precisions, recalls, thresholds = precision_recall_curve(y_train_zero, y_scores(log_reg, 'decision_function'))\n",
    "\n",
    "def plot_pr_vs_threshold(precisions, recalls, thresholds):\n",
    "    plt.plot(thresholds, precisions[:-1], \"b--\", label=\"Precision\")\n",
    "    plt.plot(thresholds, recalls[:-1], \"g--\", label=\"Recall\")\n",
    "    plt.xlabel(\"Threshold\")\n",
    "    plt.legend(loc=\"upper right\")\n",
    "    plt.ylim([-0.05, 1.05])\n",
    "\n",
    "plot_pr_vs_threshold(precisions, recalls, thresholds)\n",
    "plt.show()"
   ]
  },
  {
   "cell_type": "markdown",
   "metadata": {},
   "source": [
    "These findings show quite variable behaviour across the classifiers, which usually exhibit a clear 'trade-off' nature between precision and recall, as may have been expected. \n",
    "\n",
    "Let us also plot the ROC curves for each of these classifiers, to have some numerical quantification of how well they perform against one another."
   ]
  },
  {
   "cell_type": "code",
   "execution_count": 17,
   "metadata": {},
   "outputs": [
    {
     "name": "stderr",
     "output_type": "stream",
     "text": [
      "/home/dks28/.local/lib/python3.6/site-packages/sklearn/linear_model/logistic.py:432: FutureWarning: Default solver will be changed to 'lbfgs' in 0.22. Specify a solver to silence this warning.\n",
      "  FutureWarning)\n",
      "/home/dks28/.local/lib/python3.6/site-packages/sklearn/linear_model/logistic.py:432: FutureWarning: Default solver will be changed to 'lbfgs' in 0.22. Specify a solver to silence this warning.\n",
      "  FutureWarning)\n",
      "/home/dks28/.local/lib/python3.6/site-packages/sklearn/linear_model/logistic.py:432: FutureWarning: Default solver will be changed to 'lbfgs' in 0.22. Specify a solver to silence this warning.\n",
      "  FutureWarning)\n",
      "/home/dks28/.local/lib/python3.6/site-packages/sklearn/linear_model/logistic.py:432: FutureWarning: Default solver will be changed to 'lbfgs' in 0.22. Specify a solver to silence this warning.\n",
      "  FutureWarning)\n",
      "/home/dks28/.local/lib/python3.6/site-packages/sklearn/linear_model/logistic.py:432: FutureWarning: Default solver will be changed to 'lbfgs' in 0.22. Specify a solver to silence this warning.\n",
      "  FutureWarning)\n"
     ]
    },
    {
     "data": {
      "image/png": "[encoded data removed]",
      "text/plain": [
       "<Figure size 432x288 with 1 Axes>"
      ]
     },
     "metadata": {},
     "output_type": "display_data"
    }
   ],
   "source": [
    "get_f = lambda model_ : 'decision_function' if model_ in [sgd, log_reg] else 'predict_proba'\n",
    "yscores = {model_: y_scores(model_, get_f(model_)) for model_ in models_}\n",
    "yscores_num = {model_: yscores[model_][:,1] if get_f(model_)=='predict_proba' else yscores[model_] for model_ in models_}\n",
    "\n",
    "from sklearn.metrics import roc_curve\n",
    "from sklearn.metrics import roc_auc_score\n",
    "\n",
    "def plot_roc_curve(fpr, tpr, label=None):\n",
    "    plt.plot(fpr, tpr, linewidth=2, label=label)\n",
    "    plt.plot([0, 1], [0, 1], \"k--\")\n",
    "    plt.axis([0, 1, 0, 1.01])\n",
    "    plt.xlabel(\"False positive rate (fpr)\")\n",
    "    plt.ylabel(\"True positive rate (tpr)\")\n",
    "    #plt.yscale('log')\n",
    "\n",
    "for model_ in models_[:-1]:\n",
    "    fpr, tpr, thresholds = roc_curve(y_train_zero, yscores_num[model_])\n",
    "    plt.plot(fpr, tpr, label=modellabels[model_])\n",
    "\n",
    "fpr_last, tpr_last, threshlast = roc_curve(y_train_zero, yscores_num[models_[-1]])\n",
    "plot_roc_curve(fpr_last, tpr_last, modellabels[models_[-1]])\n",
    "plt.legend(loc='lower right')\n",
    "plt.show() "
   ]
  },
  {
   "cell_type": "markdown",
   "metadata": {},
   "source": [
    "Oof, that's ugly... it's probably better to give the area under each curve:"
   ]
  },
  {
   "cell_type": "code",
   "execution_count": 18,
   "metadata": {},
   "outputs": [],
   "source": [
    "auc_scores = [(modellabels[model_], roc_auc_score(y_train_zero, yscores_num[model_])) for model_ in models_]\n",
    "auc_scores.sort(key= lambda p: -p[1])"
   ]
  },
  {
   "cell_type": "code",
   "execution_count": 19,
   "metadata": {},
   "outputs": [
    {
     "name": "stdout",
     "output_type": "stream",
     "text": [
      "Random Forest (Gini) 0.982848543969139\n",
      "Random Forest (Entropy) 0.9800550930596048\n",
      "Logistic Regressor 0.9725920342308587\n",
      "Perceptron 0.9388156654953387\n",
      "Multinomial NB 0.9320315704293268\n",
      "Decision Tree (Entropy) 0.8832265466517387\n",
      "Decision Tree (Gini) 0.8444341599139794\n",
      "Extra Decision Tree 0.7934342818503287\n",
      "Gaussian NB 0.7821828823535932\n"
     ]
    }
   ],
   "source": [
    "for p in auc_scores:\n",
    "    print(p[0], p[1])"
   ]
  },
  {
   "cell_type": "markdown",
   "metadata": {},
   "source": [
    "It should be noted that by rerunning the above three cells, we can observe a slight variability in the results. In general, it seems that the random forest and logistic regression classifiers are the most performant at classifying the digit 8, wheras the gaussian NB classifier is significantly worse than the multinomial classifier. The perceptron is also quite performant despite its slightly more simplistic nature. \n",
    "\n",
    "Now, let us see whether applying the kernel trick might help us improve on this performance, and if any particular classifiers profit especially."
   ]
  },
  {
   "cell_type": "code",
   "execution_count": 20,
   "metadata": {},
   "outputs": [],
   "source": [
    "from sklearn.kernel_approximation import RBFSampler"
   ]
  },
  {
   "cell_type": "code",
   "execution_count": 21,
   "metadata": {},
   "outputs": [
    {
     "name": "stdout",
     "output_type": "stream",
     "text": [
      "Multinomial NB caused exception:  Input X must be non-negative\n"
     ]
    },
    {
     "name": "stderr",
     "output_type": "stream",
     "text": [
      "/home/dks28/.local/lib/python3.6/site-packages/sklearn/linear_model/logistic.py:432: FutureWarning: Default solver will be changed to 'lbfgs' in 0.22. Specify a solver to silence this warning.\n",
      "  FutureWarning)\n",
      "/home/dks28/.local/lib/python3.6/site-packages/sklearn/ensemble/forest.py:245: FutureWarning: The default value of n_estimators will change from 10 in version 0.20 to 100 in 0.22.\n",
      "  \"10 in version 0.20 to 100 in 0.22.\", FutureWarning)\n",
      "/home/dks28/.local/lib/python3.6/site-packages/sklearn/ensemble/forest.py:245: FutureWarning: The default value of n_estimators will change from 10 in version 0.20 to 100 in 0.22.\n",
      "  \"10 in version 0.20 to 100 in 0.22.\", FutureWarning)\n"
     ]
    },
    {
     "name": "stdout",
     "output_type": "stream",
     "text": [
      "Perceptron fit to kernelled data.\n",
      "Logistic Regressor fit to kernelled data.\n",
      "Gaussian NB fit to kernelled data.\n",
      "Multinomial NB fit to kernelled data.\n",
      "Decision Tree (Entropy) fit to kernelled data.\n",
      "Decision Tree (Gini) fit to kernelled data.\n",
      "Random Forest (Entropy) fit to kernelled data.\n",
      "Random Forest (Gini) fit to kernelled data.\n"
     ]
    }
   ],
   "source": [
    "rbf_features = RBFSampler(gamma=1, random_state=42)\n",
    "X_train_features = rbf_features.fit_transform(X_train)\n",
    "\n",
    "sgd_rbf = SGDClassifier(max_iter=8, tol=None, random_state=42,\n",
    "                   loss=\"perceptron\", eta0=1, learning_rate=\"constant\", penalty=None)\n",
    "log_reg_rbf = LogisticRegression()\n",
    "gnb_rbf = GaussianNB() \n",
    "mnb_rbf = MultinomialNB()   # CAUSES EXCEPTION! Must ask why...\n",
    "dte_rbf = DecisionTreeClassifier(criterion='entropy')       # Make this behave like HUffmann trees from InfoTheory\n",
    "dtg_rbf = DecisionTreeClassifier(criterion='gini')\n",
    "rfe_rbf = RandomForestClassifier(criterion='entropy')\n",
    "rfg_rbf = RandomForestClassifier(criterion='gini')\n",
    "ext_rbf = ExtraTreeClassifier()\n",
    "to_remove = []\n",
    "kmodellabels = {}\n",
    "kernel_models = [sgd_rbf, log_reg_rbf, gnb_rbf, mnb_rbf, dte_rbf, dtg_rbf, rfe_rbf, rfg_rbf, ext_rbf]\n",
    "for i,model_ in enumerate(kernel_models):\n",
    "    try:\n",
    "        model_.fit(X_train_features, y_train_zero)\n",
    "    except Exception as e:\n",
    "        print(modellabels[models_[i]], \"caused exception: \", e)\n",
    "        to_remove.append(model_)\n",
    "\n",
    "for model_ in to_remove:\n",
    "    kernel_models.remove(model_)\n",
    "for i, model_ in enumerate(kernel_models):\n",
    "    kmodellabels[model_] = modellabels[models_[i]] + \" fit to kernelled data.\"\n",
    "    print(kmodellabels[model_])"
   ]
  },
  {
   "cell_type": "code",
   "execution_count": 22,
   "metadata": {
    "scrolled": false
   },
   "outputs": [
    {
     "name": "stdout",
     "output_type": "stream",
     "text": [
      "Perceptron\n",
      " P: 0.7525773195876289 \n",
      " R: 0.5251798561151079 \n",
      "F1: 0.6186440677966102 \n",
      "\n",
      "\n",
      "\n",
      "Logistic Regressor\n"
     ]
    },
    {
     "name": "stderr",
     "output_type": "stream",
     "text": [
      "/home/dks28/.local/lib/python3.6/site-packages/sklearn/linear_model/logistic.py:432: FutureWarning: Default solver will be changed to 'lbfgs' in 0.22. Specify a solver to silence this warning.\n",
      "  FutureWarning)\n",
      "/home/dks28/.local/lib/python3.6/site-packages/sklearn/linear_model/logistic.py:432: FutureWarning: Default solver will be changed to 'lbfgs' in 0.22. Specify a solver to silence this warning.\n",
      "  FutureWarning)\n",
      "/home/dks28/.local/lib/python3.6/site-packages/sklearn/linear_model/logistic.py:432: FutureWarning: Default solver will be changed to 'lbfgs' in 0.22. Specify a solver to silence this warning.\n",
      "  FutureWarning)\n",
      "/home/dks28/.local/lib/python3.6/site-packages/sklearn/linear_model/logistic.py:432: FutureWarning: Default solver will be changed to 'lbfgs' in 0.22. Specify a solver to silence this warning.\n",
      "  FutureWarning)\n",
      "/home/dks28/.local/lib/python3.6/site-packages/sklearn/linear_model/logistic.py:432: FutureWarning: Default solver will be changed to 'lbfgs' in 0.22. Specify a solver to silence this warning.\n",
      "  FutureWarning)\n"
     ]
    },
    {
     "name": "stdout",
     "output_type": "stream",
     "text": [
      " P: 0.762962962962963 \n",
      " R: 0.7410071942446043 \n",
      "F1: 0.751824817518248 \n",
      "\n",
      "\n",
      "\n",
      "Gaussian NB\n",
      " P: 0.16626506024096385 \n",
      " R: 0.9928057553956835 \n",
      "F1: 0.28482972136222906 \n",
      "\n",
      "\n",
      "\n",
      "Multinomial NB\n",
      " P: 0.3498542274052478 \n",
      " R: 0.8633093525179856 \n",
      "F1: 0.4979253112033194 \n",
      "\n",
      "\n",
      "\n",
      "Decision Tree (Entropy)\n",
      " P: 0.84251968503937 \n",
      " R: 0.7697841726618705 \n",
      "F1: 0.8045112781954887 \n",
      "\n",
      "\n",
      "\n",
      "Decision Tree (Gini)\n",
      " P: 0.6736111111111112 \n",
      " R: 0.697841726618705 \n",
      "F1: 0.6855123674911661 \n",
      "\n",
      "\n",
      "\n",
      "Random Forest (Entropy)\n",
      " P: 1.0 \n",
      " R: 0.7050359712230215 \n",
      "F1: 0.8270042194092826 \n",
      "\n",
      "\n",
      "\n",
      "Random Forest (Gini)\n",
      " P: 0.9743589743589743 \n",
      " R: 0.5467625899280576 \n",
      "F1: 0.7004608294930875 \n",
      "\n",
      "\n",
      "\n",
      "Extra Decision Tree\n",
      " P: 0.6115107913669064 \n",
      " R: 0.6115107913669064 \n",
      "F1: 0.6115107913669064 \n",
      "\n",
      "\n",
      "\n",
      "Perceptron fit to kernelled data.\n",
      " P: 0.0975609756097561 \n",
      " R: 0.02877697841726619 \n",
      "F1: 0.04444444444444444 \n",
      "\n",
      "\n",
      "\n",
      "Logistic Regressor fit to kernelled data.\n",
      " P: 0.0 \n",
      " R: 0.0 \n",
      "F1: 0.0 \n",
      "\n",
      "\n",
      "\n",
      "Gaussian NB fit to kernelled data.\n",
      " P: 0.0 \n",
      " R: 0.0 \n",
      "F1: 0.0 \n",
      "\n",
      "\n",
      "\n",
      "Multinomial NB fit to kernelled data.\n"
     ]
    },
    {
     "name": "stderr",
     "output_type": "stream",
     "text": [
      "/home/dks28/.local/lib/python3.6/site-packages/sklearn/linear_model/logistic.py:432: FutureWarning: Default solver will be changed to 'lbfgs' in 0.22. Specify a solver to silence this warning.\n",
      "  FutureWarning)\n",
      "/home/dks28/.local/lib/python3.6/site-packages/sklearn/linear_model/logistic.py:432: FutureWarning: Default solver will be changed to 'lbfgs' in 0.22. Specify a solver to silence this warning.\n",
      "  FutureWarning)\n",
      "/home/dks28/.local/lib/python3.6/site-packages/sklearn/linear_model/logistic.py:432: FutureWarning: Default solver will be changed to 'lbfgs' in 0.22. Specify a solver to silence this warning.\n",
      "  FutureWarning)\n",
      "/home/dks28/.local/lib/python3.6/site-packages/sklearn/linear_model/logistic.py:432: FutureWarning: Default solver will be changed to 'lbfgs' in 0.22. Specify a solver to silence this warning.\n",
      "  FutureWarning)\n",
      "/home/dks28/.local/lib/python3.6/site-packages/sklearn/linear_model/logistic.py:432: FutureWarning: Default solver will be changed to 'lbfgs' in 0.22. Specify a solver to silence this warning.\n",
      "  FutureWarning)\n",
      "/home/dks28/.local/lib/python3.6/site-packages/sklearn/metrics/classification.py:1437: UndefinedMetricWarning: Precision is ill-defined and being set to 0.0 due to no predicted samples.\n",
      "  'precision', 'predicted', average, warn_for)\n",
      "/home/dks28/.local/lib/python3.6/site-packages/sklearn/metrics/classification.py:1437: UndefinedMetricWarning: F-score is ill-defined and being set to 0.0 due to no predicted samples.\n",
      "  'precision', 'predicted', average, warn_for)\n"
     ]
    },
    {
     "name": "stdout",
     "output_type": "stream",
     "text": [
      " P: 0.12418300653594772 \n",
      " R: 0.1366906474820144 \n",
      "F1: 0.13013698630136986 \n",
      "\n",
      "\n",
      "\n",
      "Decision Tree (Entropy) fit to kernelled data.\n",
      " P: 0.10404624277456648 \n",
      " R: 0.12949640287769784 \n",
      "F1: 0.11538461538461538 \n",
      "\n",
      "\n",
      "\n",
      "Decision Tree (Gini) fit to kernelled data.\n",
      " P: 0.0 \n",
      " R: 0.0 \n",
      "F1: 0.0 \n",
      "\n",
      "\n",
      "\n",
      "Random Forest (Entropy) fit to kernelled data.\n",
      " P: 0.0 \n",
      " R: 0.0 \n",
      "F1: 0.0 \n",
      "\n",
      "\n",
      "\n",
      "Random Forest (Gini) fit to kernelled data.\n",
      " P: 0.12371134020618557 \n",
      " R: 0.17266187050359713 \n",
      "F1: 0.14414414414414414 \n",
      "\n",
      "\n",
      "\n"
     ]
    }
   ],
   "source": [
    "for model_ in models_:\n",
    "    print(modellabels[model_])\n",
    "    y_train_pred = cross_val_predict(model_, X_train, y_train_zero, cv=5)\n",
    "    precision = precision_score(y_train_zero, y_train_pred)\n",
    "    recall = recall_score(y_train_zero, y_train_pred)\n",
    "    f1 = f1_score(y_train_zero, y_train_pred)\n",
    "    print(' P:', precision,'\\n R:', recall, '\\nF1:', f1, '\\n'*3)\n",
    "for model_ in kernel_models:\n",
    "    print(kmodellabels[model_])\n",
    "    y_train_pred = cross_val_predict(model_, X_train_features, y_train_zero, cv=5)\n",
    "    precision = precision_score(y_train_zero, y_train_pred)\n",
    "    recall = recall_score(y_train_zero, y_train_pred)\n",
    "    f1 = f1_score(y_train_zero, y_train_pred)\n",
    "    print(' P:', precision,'\\n R:', recall, '\\nF1:', f1, '\\n'*3)"
   ]
  },
  {
   "cell_type": "markdown",
   "metadata": {},
   "source": [
    "OH DEAR! Performance is terrible with the kernel trick... I wonder why...\n",
    "\n",
    "#### Anyway, let's move on to multiclass classification.\n",
    "\n",
    "As a first step, let's try the simple perceptron on our example of an eight from before."
   ]
  },
  {
   "cell_type": "code",
   "execution_count": 23,
   "metadata": {},
   "outputs": [
    {
     "name": "stdout",
     "output_type": "stream",
     "text": [
      "[8]\n"
     ]
    }
   ],
   "source": [
    "sgd.fit(X_train, y_train) # i.e., all instances, not just one class\n",
    "print(sgd.predict([zero_features]))"
   ]
  },
  {
   "cell_type": "markdown",
   "metadata": {},
   "source": [
    "Awesome, this works!\n",
    "\n",
    "Let's check the others:"
   ]
  },
  {
   "cell_type": "code",
   "execution_count": 24,
   "metadata": {},
   "outputs": [
    {
     "name": "stdout",
     "output_type": "stream",
     "text": [
      "Prediction of  Perceptron: [8] \n",
      "\n",
      "\n",
      "Prediction of  Logistic Regressor: [8] \n",
      "\n",
      "\n",
      "Prediction of  Gaussian NB: [8] \n",
      "\n",
      "\n"
     ]
    },
    {
     "name": "stderr",
     "output_type": "stream",
     "text": [
      "/home/dks28/.local/lib/python3.6/site-packages/sklearn/linear_model/logistic.py:432: FutureWarning: Default solver will be changed to 'lbfgs' in 0.22. Specify a solver to silence this warning.\n",
      "  FutureWarning)\n",
      "/home/dks28/.local/lib/python3.6/site-packages/sklearn/linear_model/logistic.py:469: FutureWarning: Default multi_class will be changed to 'auto' in 0.22. Specify the multi_class option to silence this warning.\n",
      "  \"this warning.\", FutureWarning)\n"
     ]
    },
    {
     "name": "stdout",
     "output_type": "stream",
     "text": [
      "Prediction of  Multinomial NB: [8] \n",
      "\n",
      "\n",
      "Prediction of  Decision Tree (Entropy): [8] \n",
      "\n",
      "\n",
      "Prediction of  Decision Tree (Gini): [8] \n",
      "\n",
      "\n",
      "Prediction of  Random Forest (Entropy): [8] \n",
      "\n",
      "\n",
      "Prediction of  Random Forest (Gini): [8] \n",
      "\n",
      "\n",
      "Prediction of  Extra Decision Tree: [8] \n",
      "\n",
      "\n"
     ]
    }
   ],
   "source": [
    "for model_ in models_:\n",
    "    model_.fit(X_train, y_train)    \n",
    "    print('Prediction of ', modellabels[model_]+':', model_.predict([zero_features]), '\\n\\n')"
   ]
  },
  {
   "cell_type": "markdown",
   "metadata": {},
   "source": [
    "That's incredible, they all work on our chosen example!\n",
    "\n",
    "Let's analyse how sure they were:"
   ]
  },
  {
   "cell_type": "code",
   "execution_count": 25,
   "metadata": {
    "scrolled": false
   },
   "outputs": [
    {
     "name": "stdout",
     "output_type": "stream",
     "text": [
      "Perceptron\n",
      "(0, -6094.0)\n",
      "(1, -10719.0)\n",
      "(2, -4563.0)\n",
      "(3, -7407.0)\n",
      "(4, -11434.0)\n",
      "(5, -8465.0)\n",
      "(6, -4267.0)\n",
      "(7, -6902.0)\n",
      "(8, 4712.0)\n",
      "(9, -8508.0)\n",
      "Prediction:  8 \n",
      "\n",
      "\n",
      "\n",
      "Logistic Regressor\n",
      "(0, -17.422089774036223)\n",
      "(1, -26.280113905989094)\n",
      "(2, -18.01249221269653)\n",
      "(3, -18.834754385406814)\n",
      "(4, -30.648274757287773)\n",
      "(5, -35.80656741666351)\n",
      "(6, -13.643531860043543)\n",
      "(7, -23.92071023437435)\n",
      "(8, 5.785136799047196)\n",
      "(9, -16.595006929580915)\n",
      "Prediction:  8 \n",
      "\n",
      "\n",
      "\n",
      "Gaussian NB\n",
      "(0, 0.0)\n",
      "(1, 2.897898867265994e-14)\n",
      "(2, 4.4977296295874355e-28)\n",
      "(3, 1.272859571607606e-29)\n",
      "(4, 0.0)\n",
      "(5, 3.8507147370696834e-45)\n",
      "(6, 0.0)\n",
      "(7, 0.0)\n",
      "(8, 0.9999999999999716)\n",
      "(9, 7.028992771786413e-45)\n",
      "Prediction:  8 \n",
      "\n",
      "\n",
      "\n",
      "Multinomial NB\n",
      "(0, 2.55827660254574e-94)\n",
      "(1, 5.346582520899563e-25)\n",
      "(2, 2.536858085758023e-23)\n",
      "(3, 1.0099149496263645e-27)\n",
      "(4, 9.294245458755066e-70)\n",
      "(5, 1.0418550748150519e-54)\n",
      "(6, 2.2813294674137231e-69)\n",
      "(7, 1.1292889999481863e-98)\n",
      "(8, 1.0)\n",
      "(9, 6.475776014695776e-36)\n",
      "Prediction:  8 \n",
      "\n",
      "\n",
      "\n",
      "Decision Tree (Entropy)\n",
      "(0, 0.0)\n",
      "(1, 0.0)\n",
      "(2, 0.0)\n",
      "(3, 0.0)\n",
      "(4, 0.0)\n",
      "(5, 0.0)\n",
      "(6, 0.0)\n",
      "(7, 0.0)\n",
      "(8, 1.0)\n",
      "(9, 0.0)\n",
      "Prediction:  8 \n",
      "\n",
      "\n",
      "\n",
      "Decision Tree (Gini)\n",
      "(0, 0.0)\n",
      "(1, 0.0)\n",
      "(2, 0.0)\n",
      "(3, 0.0)\n",
      "(4, 0.0)\n",
      "(5, 0.0)\n",
      "(6, 0.0)\n",
      "(7, 0.0)\n",
      "(8, 1.0)\n",
      "(9, 0.0)\n",
      "Prediction:  8 \n",
      "\n",
      "\n",
      "\n",
      "Random Forest (Entropy)\n",
      "(0, 0.0)\n",
      "(1, 0.0)\n",
      "(2, 0.0)\n",
      "(3, 0.0)\n",
      "(4, 0.0)\n",
      "(5, 0.0)\n",
      "(6, 0.0)\n",
      "(7, 0.0)\n",
      "(8, 0.9)\n",
      "(9, 0.1)\n",
      "Prediction:  8 \n",
      "\n",
      "\n",
      "\n",
      "Random Forest (Gini)\n",
      "(0, 0.0)\n",
      "(1, 0.0)\n",
      "(2, 0.0)\n",
      "(3, 0.0)\n",
      "(4, 0.0)\n",
      "(5, 0.0)\n",
      "(6, 0.0)\n",
      "(7, 0.0)\n",
      "(8, 0.8)\n",
      "(9, 0.2)\n",
      "Prediction:  8 \n",
      "\n",
      "\n",
      "\n",
      "Extra Decision Tree\n",
      "(0, 0.0)\n",
      "(1, 0.0)\n",
      "(2, 0.0)\n",
      "(3, 0.0)\n",
      "(4, 0.0)\n",
      "(5, 0.0)\n",
      "(6, 0.0)\n",
      "(7, 0.0)\n",
      "(8, 1.0)\n",
      "(9, 0.0)\n",
      "Prediction:  8 \n",
      "\n",
      "\n",
      "\n"
     ]
    }
   ],
   "source": [
    "for model_ in models_:\n",
    "    print(modellabels[model_])\n",
    "    if(get_f(model_)=='decision_function'):\n",
    "        scores = model_.decision_function( [zero_features])\n",
    "    else:\n",
    "        scores = model_.predict_proba([zero_features])\n",
    "    print('\\n'.join(map(str, enumerate(scores[0]))))\n",
    "    print('Prediction: ', np.argmax(scores), '\\n\\n\\n')"
   ]
  },
  {
   "cell_type": "markdown",
   "metadata": {},
   "source": [
    "OK, so they were all very sure. Let's move on to the performance across the whole data set."
   ]
  },
  {
   "cell_type": "code",
   "execution_count": 26,
   "metadata": {},
   "outputs": [
    {
     "name": "stdout",
     "output_type": "stream",
     "text": [
      "Perceptron\n",
      "0.9267995701513743 \n",
      "\n",
      "\n",
      "Logistic Regressor\n"
     ]
    },
    {
     "name": "stderr",
     "output_type": "stream",
     "text": [
      "/home/dks28/.local/lib/python3.6/site-packages/sklearn/linear_model/logistic.py:432: FutureWarning: Default solver will be changed to 'lbfgs' in 0.22. Specify a solver to silence this warning.\n",
      "  FutureWarning)\n",
      "/home/dks28/.local/lib/python3.6/site-packages/sklearn/linear_model/logistic.py:469: FutureWarning: Default multi_class will be changed to 'auto' in 0.22. Specify the multi_class option to silence this warning.\n",
      "  \"this warning.\", FutureWarning)\n",
      "/home/dks28/.local/lib/python3.6/site-packages/sklearn/linear_model/logistic.py:432: FutureWarning: Default solver will be changed to 'lbfgs' in 0.22. Specify a solver to silence this warning.\n",
      "  FutureWarning)\n",
      "/home/dks28/.local/lib/python3.6/site-packages/sklearn/linear_model/logistic.py:469: FutureWarning: Default multi_class will be changed to 'auto' in 0.22. Specify the multi_class option to silence this warning.\n",
      "  \"this warning.\", FutureWarning)\n",
      "/home/dks28/.local/lib/python3.6/site-packages/sklearn/linear_model/logistic.py:432: FutureWarning: Default solver will be changed to 'lbfgs' in 0.22. Specify a solver to silence this warning.\n",
      "  FutureWarning)\n",
      "/home/dks28/.local/lib/python3.6/site-packages/sklearn/linear_model/logistic.py:469: FutureWarning: Default multi_class will be changed to 'auto' in 0.22. Specify the multi_class option to silence this warning.\n",
      "  \"this warning.\", FutureWarning)\n",
      "/home/dks28/.local/lib/python3.6/site-packages/sklearn/linear_model/logistic.py:432: FutureWarning: Default solver will be changed to 'lbfgs' in 0.22. Specify a solver to silence this warning.\n",
      "  FutureWarning)\n",
      "/home/dks28/.local/lib/python3.6/site-packages/sklearn/linear_model/logistic.py:469: FutureWarning: Default multi_class will be changed to 'auto' in 0.22. Specify the multi_class option to silence this warning.\n",
      "  \"this warning.\", FutureWarning)\n",
      "/home/dks28/.local/lib/python3.6/site-packages/sklearn/linear_model/logistic.py:432: FutureWarning: Default solver will be changed to 'lbfgs' in 0.22. Specify a solver to silence this warning.\n",
      "  FutureWarning)\n",
      "/home/dks28/.local/lib/python3.6/site-packages/sklearn/linear_model/logistic.py:469: FutureWarning: Default multi_class will be changed to 'auto' in 0.22. Specify the multi_class option to silence this warning.\n",
      "  \"this warning.\", FutureWarning)\n"
     ]
    },
    {
     "name": "stdout",
     "output_type": "stream",
     "text": [
      "0.9519151161675566 \n",
      "\n",
      "\n",
      "Gaussian NB\n",
      "0.8272523770224762 \n",
      "\n",
      "\n",
      "Multinomial NB\n",
      "0.8976291522375159 \n",
      "\n",
      "\n",
      "Decision Tree (Entropy)\n",
      "0.8572182871993759 \n",
      "\n",
      "\n",
      "Decision Tree (Gini)\n",
      "0.855134505715793 \n",
      "\n",
      "\n",
      "Random Forest (Entropy)\n",
      "0.9471075349073447 \n",
      "\n",
      "\n",
      "Random Forest (Gini)\n",
      "0.9400265794303302 \n",
      "\n",
      "\n",
      "Extra Decision Tree\n",
      "0.7604566041770571 \n",
      "\n",
      "\n"
     ]
    }
   ],
   "source": [
    "from sklearn.model_selection import cross_val_score\n",
    "\n",
    "for model_ in models_:\n",
    "    print(modellabels[model_])\n",
    "    print(np.mean(cross_val_score(model_, X_train, y_train, cv=5, scoring=\"accuracy\")), '\\n'*2)"
   ]
  },
  {
   "cell_type": "markdown",
   "metadata": {},
   "source": [
    "Now let us also try and see the effect of scaling on this data set:"
   ]
  },
  {
   "cell_type": "code",
   "execution_count": 27,
   "metadata": {},
   "outputs": [],
   "source": [
    "from sklearn.preprocessing import StandardScaler, MinMaxScaler\n",
    "\n",
    "scaler = MinMaxScaler() # Can't use standard because Multinomial NB craps itself in the face of negative values...\n",
    "X_train_scaled = scaler.fit_transform(X_train.astype(np.float64))"
   ]
  },
  {
   "cell_type": "code",
   "execution_count": 28,
   "metadata": {
    "scrolled": false
   },
   "outputs": [
    {
     "name": "stdout",
     "output_type": "stream",
     "text": [
      "Perceptron\n",
      "0.9373480229336163 \n",
      "\n",
      "\n",
      "Logistic Regressor\n"
     ]
    },
    {
     "name": "stderr",
     "output_type": "stream",
     "text": [
      "/home/dks28/.local/lib/python3.6/site-packages/sklearn/linear_model/logistic.py:432: FutureWarning: Default solver will be changed to 'lbfgs' in 0.22. Specify a solver to silence this warning.\n",
      "  FutureWarning)\n",
      "/home/dks28/.local/lib/python3.6/site-packages/sklearn/linear_model/logistic.py:469: FutureWarning: Default multi_class will be changed to 'auto' in 0.22. Specify the multi_class option to silence this warning.\n",
      "  \"this warning.\", FutureWarning)\n",
      "/home/dks28/.local/lib/python3.6/site-packages/sklearn/linear_model/logistic.py:432: FutureWarning: Default solver will be changed to 'lbfgs' in 0.22. Specify a solver to silence this warning.\n",
      "  FutureWarning)\n",
      "/home/dks28/.local/lib/python3.6/site-packages/sklearn/linear_model/logistic.py:469: FutureWarning: Default multi_class will be changed to 'auto' in 0.22. Specify the multi_class option to silence this warning.\n",
      "  \"this warning.\", FutureWarning)\n",
      "/home/dks28/.local/lib/python3.6/site-packages/sklearn/linear_model/logistic.py:432: FutureWarning: Default solver will be changed to 'lbfgs' in 0.22. Specify a solver to silence this warning.\n",
      "  FutureWarning)\n",
      "/home/dks28/.local/lib/python3.6/site-packages/sklearn/linear_model/logistic.py:469: FutureWarning: Default multi_class will be changed to 'auto' in 0.22. Specify the multi_class option to silence this warning.\n",
      "  \"this warning.\", FutureWarning)\n",
      "/home/dks28/.local/lib/python3.6/site-packages/sklearn/linear_model/logistic.py:432: FutureWarning: Default solver will be changed to 'lbfgs' in 0.22. Specify a solver to silence this warning.\n",
      "  FutureWarning)\n",
      "/home/dks28/.local/lib/python3.6/site-packages/sklearn/linear_model/logistic.py:469: FutureWarning: Default multi_class will be changed to 'auto' in 0.22. Specify the multi_class option to silence this warning.\n",
      "  \"this warning.\", FutureWarning)\n",
      "/home/dks28/.local/lib/python3.6/site-packages/sklearn/linear_model/logistic.py:432: FutureWarning: Default solver will be changed to 'lbfgs' in 0.22. Specify a solver to silence this warning.\n",
      "  FutureWarning)\n",
      "/home/dks28/.local/lib/python3.6/site-packages/sklearn/linear_model/logistic.py:469: FutureWarning: Default multi_class will be changed to 'auto' in 0.22. Specify the multi_class option to silence this warning.\n",
      "  \"this warning.\", FutureWarning)\n"
     ]
    },
    {
     "name": "stdout",
     "output_type": "stream",
     "text": [
      "0.9554407802869573 \n",
      "\n",
      "\n",
      "Gaussian NB\n",
      "0.8084260008317716 \n",
      "\n",
      "\n",
      "Multinomial NB\n",
      "0.8990110176349825 \n",
      "\n",
      "\n",
      "Decision Tree (Entropy)\n",
      "0.860717885885759 \n",
      "\n",
      "\n",
      "Decision Tree (Gini)\n",
      "0.8544929330594837 \n",
      "\n",
      "\n",
      "Random Forest (Entropy)\n",
      "0.9435866279776766 \n",
      "\n",
      "\n",
      "Random Forest (Gini)\n",
      "0.9400775376542919 \n",
      "\n",
      "\n",
      "Extra Decision Tree\n",
      "0.7716644833754633 \n",
      "\n",
      "\n"
     ]
    }
   ],
   "source": [
    "for model_ in models_:\n",
    "    print(modellabels[model_])\n",
    "    print(np.mean(cross_val_score(model_, X_train_scaled, y_train, cv=5, scoring=\"accuracy\")), '\\n'*2)"
   ]
  },
  {
   "cell_type": "markdown",
   "metadata": {},
   "source": [
    "Finally, let us try and get an overview of how much confusion there is between each of the different classes. Remember, the y-axis is the actual class, whereas the x-axis is the predicted class. "
   ]
  },
  {
   "cell_type": "code",
   "execution_count": 29,
   "metadata": {
    "scrolled": false
   },
   "outputs": [
    {
     "name": "stdout",
     "output_type": "stream",
     "text": [
      "Perceptron\n"
     ]
    },
    {
     "data": {
      "image/png": "[encoded data removed]",
      "text/plain": [
       "<Figure size 432x288 with 1 Axes>"
      ]
     },
     "metadata": {},
     "output_type": "display_data"
    },
    {
     "name": "stdout",
     "output_type": "stream",
     "text": [
      "Greatest misclassification: 81 \n",
      "\n",
      "\n",
      "Logistic Regressor\n"
     ]
    },
    {
     "name": "stderr",
     "output_type": "stream",
     "text": [
      "/home/dks28/.local/lib/python3.6/site-packages/sklearn/linear_model/logistic.py:432: FutureWarning: Default solver will be changed to 'lbfgs' in 0.22. Specify a solver to silence this warning.\n",
      "  FutureWarning)\n",
      "/home/dks28/.local/lib/python3.6/site-packages/sklearn/linear_model/logistic.py:469: FutureWarning: Default multi_class will be changed to 'auto' in 0.22. Specify the multi_class option to silence this warning.\n",
      "  \"this warning.\", FutureWarning)\n",
      "/home/dks28/.local/lib/python3.6/site-packages/sklearn/linear_model/logistic.py:432: FutureWarning: Default solver will be changed to 'lbfgs' in 0.22. Specify a solver to silence this warning.\n",
      "  FutureWarning)\n",
      "/home/dks28/.local/lib/python3.6/site-packages/sklearn/linear_model/logistic.py:469: FutureWarning: Default multi_class will be changed to 'auto' in 0.22. Specify the multi_class option to silence this warning.\n",
      "  \"this warning.\", FutureWarning)\n",
      "/home/dks28/.local/lib/python3.6/site-packages/sklearn/linear_model/logistic.py:432: FutureWarning: Default solver will be changed to 'lbfgs' in 0.22. Specify a solver to silence this warning.\n",
      "  FutureWarning)\n",
      "/home/dks28/.local/lib/python3.6/site-packages/sklearn/linear_model/logistic.py:469: FutureWarning: Default multi_class will be changed to 'auto' in 0.22. Specify the multi_class option to silence this warning.\n",
      "  \"this warning.\", FutureWarning)\n",
      "/home/dks28/.local/lib/python3.6/site-packages/sklearn/linear_model/logistic.py:432: FutureWarning: Default solver will be changed to 'lbfgs' in 0.22. Specify a solver to silence this warning.\n",
      "  FutureWarning)\n",
      "/home/dks28/.local/lib/python3.6/site-packages/sklearn/linear_model/logistic.py:469: FutureWarning: Default multi_class will be changed to 'auto' in 0.22. Specify the multi_class option to silence this warning.\n",
      "  \"this warning.\", FutureWarning)\n"
     ]
    },
    {
     "data": {
      "image/png": "[encoded data removed]",
      "text/plain": [
       "<Figure size 432x288 with 1 Axes>"
      ]
     },
     "metadata": {},
     "output_type": "display_data"
    },
    {
     "name": "stdout",
     "output_type": "stream",
     "text": [
      "Greatest misclassification: 81 \n",
      "\n",
      "\n",
      "Gaussian NB\n"
     ]
    },
    {
     "data": {
      "image/png": "[encoded data removed]",
      "text/plain": [
       "<Figure size 432x288 with 1 Axes>"
      ]
     },
     "metadata": {},
     "output_type": "display_data"
    },
    {
     "name": "stdout",
     "output_type": "stream",
     "text": [
      "Greatest misclassification: 28 \n",
      "\n",
      "\n",
      "Multinomial NB\n"
     ]
    },
    {
     "data": {
      "image/png": "[encoded data removed]",
      "text/plain": [
       "<Figure size 432x288 with 1 Axes>"
      ]
     },
     "metadata": {},
     "output_type": "display_data"
    },
    {
     "name": "stdout",
     "output_type": "stream",
     "text": [
      "Greatest misclassification: 59 \n",
      "\n",
      "\n",
      "Decision Tree (Entropy)\n"
     ]
    },
    {
     "data": {
      "image/png": "[encoded data removed]",
      "text/plain": [
       "<Figure size 432x288 with 1 Axes>"
      ]
     },
     "metadata": {},
     "output_type": "display_data"
    },
    {
     "name": "stdout",
     "output_type": "stream",
     "text": [
      "Greatest misclassification: 18 \n",
      "\n",
      "\n",
      "Decision Tree (Gini)\n"
     ]
    },
    {
     "data": {
      "image/png": "[encoded data removed]",
      "text/plain": [
       "<Figure size 432x288 with 1 Axes>"
      ]
     },
     "metadata": {},
     "output_type": "display_data"
    },
    {
     "name": "stdout",
     "output_type": "stream",
     "text": [
      "Greatest misclassification: 28 \n",
      "\n",
      "\n",
      "Random Forest (Entropy)\n"
     ]
    },
    {
     "data": {
      "image/png": "[encoded data removed]",
      "text/plain": [
       "<Figure size 432x288 with 1 Axes>"
      ]
     },
     "metadata": {},
     "output_type": "display_data"
    },
    {
     "name": "stdout",
     "output_type": "stream",
     "text": [
      "Greatest misclassification: 98 \n",
      "\n",
      "\n",
      "Random Forest (Gini)\n"
     ]
    },
    {
     "data": {
      "image/png": "[encoded data removed]",
      "text/plain": [
       "<Figure size 432x288 with 1 Axes>"
      ]
     },
     "metadata": {},
     "output_type": "display_data"
    },
    {
     "name": "stdout",
     "output_type": "stream",
     "text": [
      "Greatest misclassification: 93 \n",
      "\n",
      "\n",
      "Extra Decision Tree\n"
     ]
    },
    {
     "data": {
      "image/png": "[encoded data removed]",
      "text/plain": [
       "<Figure size 432x288 with 1 Axes>"
      ]
     },
     "metadata": {},
     "output_type": "display_data"
    },
    {
     "name": "stdout",
     "output_type": "stream",
     "text": [
      "Greatest misclassification: 83 \n",
      "\n",
      "\n"
     ]
    }
   ],
   "source": [
    "for model_ in models_:\n",
    "    print(modellabels[model_])\n",
    "    y_train_pred = cross_val_predict(model_, X_train_scaled, y_train, cv=4)\n",
    "    conf_mx = confusion_matrix(y_train, y_train_pred)\n",
    "    row_sums = conf_mx.sum(axis=1, keepdims=True)\n",
    "    norm_conf_mx = conf_mx / row_sums\n",
    "    np.fill_diagonal(norm_conf_mx, 0)\n",
    "    plt.imshow(norm_conf_mx, cmap = \"jet\")\n",
    "    plt.show()\n",
    "    print('Greatest misclassification:', np.argmax(norm_conf_mx), '\\n\\n')"
   ]
  },
  {
   "cell_type": "markdown",
   "metadata": {},
   "source": [
    "### Finally, let us evaluate the performance on the test set.\n",
    "For this, we shall focus on the three classifiers that have performed best so far; the logistic regressor, the perceptron, and the random forest."
   ]
  },
  {
   "cell_type": "code",
   "execution_count": 30,
   "metadata": {},
   "outputs": [
    {
     "name": "stdout",
     "output_type": "stream",
     "text": [
      "Perceptron\n",
      "Accuracy 0.9277777777777778\n",
      " P: 0.9344560984665821 \n",
      " R: 0.9277777777777778 \n",
      "F1: 0.9255566606019607 \n",
      "\n",
      "\n",
      "Logistic Regressor\n",
      "Accuracy 0.9611111111111111\n",
      " P: 0.9612735642173205 \n",
      " R: 0.9611111111111111 \n",
      "F1: 0.9609416398289637 \n",
      "\n",
      "\n",
      "Gaussian NB\n",
      "Accuracy 0.7861111111111111\n",
      " P: 0.8300296045586228 \n",
      " R: 0.7861111111111111 \n",
      "F1: 0.7883863435862885 \n",
      "\n",
      "\n",
      "Multinomial NB\n",
      "Accuracy 0.8888888888888888\n",
      " P: 0.8889706112708241 \n",
      " R: 0.8888888888888888 \n",
      "F1: 0.8878721753610153 \n",
      "\n",
      "\n",
      "Decision Tree (Entropy)\n",
      "Accuracy 0.8527777777777777\n",
      " P: 0.8575714279661649 \n",
      " R: 0.8527777777777777 \n",
      "F1: 0.8536212261075039 \n",
      "\n",
      "\n",
      "Decision Tree (Gini)\n",
      "Accuracy 0.8138888888888889\n",
      " P: 0.8174988806926147 \n",
      " R: 0.8138888888888889 \n",
      "F1: 0.8123891201308273 \n",
      "\n",
      "\n",
      "Random Forest (Entropy)\n"
     ]
    },
    {
     "name": "stderr",
     "output_type": "stream",
     "text": [
      "/home/dks28/.local/lib/python3.6/site-packages/sklearn/linear_model/logistic.py:432: FutureWarning: Default solver will be changed to 'lbfgs' in 0.22. Specify a solver to silence this warning.\n",
      "  FutureWarning)\n",
      "/home/dks28/.local/lib/python3.6/site-packages/sklearn/linear_model/logistic.py:469: FutureWarning: Default multi_class will be changed to 'auto' in 0.22. Specify the multi_class option to silence this warning.\n",
      "  \"this warning.\", FutureWarning)\n"
     ]
    },
    {
     "name": "stdout",
     "output_type": "stream",
     "text": [
      "Accuracy 0.9444444444444444\n",
      " P: 0.9458154113532427 \n",
      " R: 0.9444444444444444 \n",
      "F1: 0.9445009908732194 \n",
      "\n",
      "\n",
      "Random Forest (Gini)\n",
      "Accuracy 0.9388888888888889\n",
      " P: 0.9418021259399724 \n",
      " R: 0.9388888888888889 \n",
      "F1: 0.9384380785803622 \n",
      "\n",
      "\n",
      "Extra Decision Tree\n",
      "Accuracy 0.7416666666666667\n",
      " P: 0.7487639836964595 \n",
      " R: 0.7416666666666667 \n",
      "F1: 0.740901889645263 \n",
      "\n",
      "\n"
     ]
    }
   ],
   "source": [
    "from sklearn.metrics import accuracy_score\n",
    "X_test_scaled = scaler.fit_transform(X_test.astype(np.float64))\n",
    "\n",
    "for model_ in models_:\n",
    "    print(modellabels[model_])\n",
    "    model_.fit(X_train_scaled, y_train)\n",
    "    y_pred = model_.predict(X_test_scaled)\n",
    "    print('Accuracy', accuracy_score(y_test, y_pred))\n",
    "    precision = precision_score(y_test, y_pred, average='weighted')\n",
    "    recall = recall_score(y_test, y_pred, average='weighted')\n",
    "    f1 = f1_score(y_test, y_pred, average='weighted')\n",
    "    print(' P:', precision,'\\n R:', recall, '\\nF1:', f1, '\\n'*2)"
   ]
  }
 ],
 "metadata": {
  "kernelspec": {
   "display_name": "Python 3",
   "language": "python",
   "name": "python3"
  },
  "language_info": {
   "codemirror_mode": {
    "name": "ipython",
    "version": 3
   },
   "file_extension": ".py",
   "mimetype": "text/x-python",
   "name": "python",
   "nbconvert_exporter": "python",
   "pygments_lexer": "ipython3",
   "version": "3.6.5"
  }
 },
 "nbformat": 4,
 "nbformat_minor": 2
}
